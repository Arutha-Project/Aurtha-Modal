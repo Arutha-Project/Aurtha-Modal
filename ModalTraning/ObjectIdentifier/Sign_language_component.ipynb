{
  "nbformat": 4,
  "nbformat_minor": 0,
  "metadata": {
    "colab": {
      "provenance": [],
      "gpuType": "T4"
    },
    "kernelspec": {
      "name": "python3",
      "display_name": "Python 3"
    },
    "language_info": {
      "name": "python"
    },
    "accelerator": "GPU"
  },
  "cells": [
    {
      "cell_type": "code",
      "execution_count": 2,
      "metadata": {
        "colab": {
          "base_uri": "https://localhost:8080/"
        },
        "id": "ep6cEGBflBw4",
        "outputId": "ff2d5aa5-9b61-4330-9567-91a9c280aa12"
      },
      "outputs": [
        {
          "output_type": "stream",
          "name": "stdout",
          "text": [
            "Drive already mounted at /content/drive; to attempt to forcibly remount, call drive.mount(\"/content/drive\", force_remount=True).\n"
          ]
        }
      ],
      "source": [
        "from google.colab import drive\n",
        "drive.mount('/content/drive')"
      ]
    },
    {
      "cell_type": "code",
      "source": [
        "!pip install mediapipe opencv-python"
      ],
      "metadata": {
        "colab": {
          "base_uri": "https://localhost:8080/"
        },
        "id": "wB2WQK8TlCrA",
        "outputId": "c2c2ffac-bd55-4932-fc86-c79a038bc262"
      },
      "execution_count": 3,
      "outputs": [
        {
          "output_type": "stream",
          "name": "stdout",
          "text": [
            "Collecting mediapipe\n",
            "  Downloading mediapipe-0.10.18-cp310-cp310-manylinux_2_17_x86_64.manylinux2014_x86_64.whl.metadata (9.7 kB)\n",
            "Requirement already satisfied: opencv-python in /usr/local/lib/python3.10/dist-packages (4.10.0.84)\n",
            "Requirement already satisfied: absl-py in /usr/local/lib/python3.10/dist-packages (from mediapipe) (1.4.0)\n",
            "Requirement already satisfied: attrs>=19.1.0 in /usr/local/lib/python3.10/dist-packages (from mediapipe) (24.2.0)\n",
            "Requirement already satisfied: flatbuffers>=2.0 in /usr/local/lib/python3.10/dist-packages (from mediapipe) (24.3.25)\n",
            "Requirement already satisfied: jax in /usr/local/lib/python3.10/dist-packages (from mediapipe) (0.4.33)\n",
            "Requirement already satisfied: jaxlib in /usr/local/lib/python3.10/dist-packages (from mediapipe) (0.4.33)\n",
            "Requirement already satisfied: matplotlib in /usr/local/lib/python3.10/dist-packages (from mediapipe) (3.8.0)\n",
            "Requirement already satisfied: numpy<2 in /usr/local/lib/python3.10/dist-packages (from mediapipe) (1.26.4)\n",
            "Requirement already satisfied: opencv-contrib-python in /usr/local/lib/python3.10/dist-packages (from mediapipe) (4.10.0.84)\n",
            "Requirement already satisfied: protobuf<5,>=4.25.3 in /usr/local/lib/python3.10/dist-packages (from mediapipe) (4.25.5)\n",
            "Collecting sounddevice>=0.4.4 (from mediapipe)\n",
            "  Downloading sounddevice-0.5.1-py3-none-any.whl.metadata (1.4 kB)\n",
            "Requirement already satisfied: sentencepiece in /usr/local/lib/python3.10/dist-packages (from mediapipe) (0.2.0)\n",
            "Requirement already satisfied: CFFI>=1.0 in /usr/local/lib/python3.10/dist-packages (from sounddevice>=0.4.4->mediapipe) (1.17.1)\n",
            "Requirement already satisfied: ml-dtypes>=0.2.0 in /usr/local/lib/python3.10/dist-packages (from jax->mediapipe) (0.4.1)\n",
            "Requirement already satisfied: opt-einsum in /usr/local/lib/python3.10/dist-packages (from jax->mediapipe) (3.4.0)\n",
            "Requirement already satisfied: scipy>=1.10 in /usr/local/lib/python3.10/dist-packages (from jax->mediapipe) (1.13.1)\n",
            "Requirement already satisfied: contourpy>=1.0.1 in /usr/local/lib/python3.10/dist-packages (from matplotlib->mediapipe) (1.3.1)\n",
            "Requirement already satisfied: cycler>=0.10 in /usr/local/lib/python3.10/dist-packages (from matplotlib->mediapipe) (0.12.1)\n",
            "Requirement already satisfied: fonttools>=4.22.0 in /usr/local/lib/python3.10/dist-packages (from matplotlib->mediapipe) (4.55.0)\n",
            "Requirement already satisfied: kiwisolver>=1.0.1 in /usr/local/lib/python3.10/dist-packages (from matplotlib->mediapipe) (1.4.7)\n",
            "Requirement already satisfied: packaging>=20.0 in /usr/local/lib/python3.10/dist-packages (from matplotlib->mediapipe) (24.2)\n",
            "Requirement already satisfied: pillow>=6.2.0 in /usr/local/lib/python3.10/dist-packages (from matplotlib->mediapipe) (11.0.0)\n",
            "Requirement already satisfied: pyparsing>=2.3.1 in /usr/local/lib/python3.10/dist-packages (from matplotlib->mediapipe) (3.2.0)\n",
            "Requirement already satisfied: python-dateutil>=2.7 in /usr/local/lib/python3.10/dist-packages (from matplotlib->mediapipe) (2.8.2)\n",
            "Requirement already satisfied: pycparser in /usr/local/lib/python3.10/dist-packages (from CFFI>=1.0->sounddevice>=0.4.4->mediapipe) (2.22)\n",
            "Requirement already satisfied: six>=1.5 in /usr/local/lib/python3.10/dist-packages (from python-dateutil>=2.7->matplotlib->mediapipe) (1.16.0)\n",
            "Downloading mediapipe-0.10.18-cp310-cp310-manylinux_2_17_x86_64.manylinux2014_x86_64.whl (36.1 MB)\n",
            "\u001b[2K   \u001b[90m━━━━━━━━━━━━━━━━━━━━━━━━━━━━━━━━━━━━━━━━\u001b[0m \u001b[32m36.1/36.1 MB\u001b[0m \u001b[31m41.5 MB/s\u001b[0m eta \u001b[36m0:00:00\u001b[0m\n",
            "\u001b[?25hDownloading sounddevice-0.5.1-py3-none-any.whl (32 kB)\n",
            "Installing collected packages: sounddevice, mediapipe\n",
            "Successfully installed mediapipe-0.10.18 sounddevice-0.5.1\n"
          ]
        }
      ]
    },
    {
      "cell_type": "code",
      "source": [
        "import cv2\n",
        "import mediapipe as mp\n",
        "import numpy as np\n",
        "mp_drawing = mp.solutions.drawing_utils\n",
        "mp_pose = mp.solutions.pose"
      ],
      "metadata": {
        "id": "Tr6h20DVlCt0"
      },
      "execution_count": 4,
      "outputs": []
    },
    {
      "cell_type": "code",
      "source": [
        "import cv2\n",
        "import mediapipe as mp\n",
        "import numpy as np\n",
        "import os\n",
        "from pathlib import Path\n",
        "\n",
        "# Setup mediapipe instance for hands\n",
        "mp_hands = mp.solutions.hands\n",
        "mp_drawing = mp.solutions.drawing_utils\n",
        "mp_drawing_styles = mp.solutions.drawing_styles\n",
        "\n",
        "# Define all hand landmarks with their names\n",
        "HAND_LANDMARKS_DICT = {\n",
        "    'THUMB_CMC': mp_hands.HandLandmark.THUMB_CMC,\n",
        "    'THUMB_MCP': mp_hands.HandLandmark.THUMB_MCP,\n",
        "    'THUMB_IP': mp_hands.HandLandmark.THUMB_IP,\n",
        "    'THUMB_TIP': mp_hands.HandLandmark.THUMB_TIP,\n",
        "    'INDEX_FINGER_MCP': mp_hands.HandLandmark.INDEX_FINGER_MCP,\n",
        "    'INDEX_FINGER_PIP': mp_hands.HandLandmark.INDEX_FINGER_PIP,\n",
        "    'INDEX_FINGER_DIP': mp_hands.HandLandmark.INDEX_FINGER_DIP,\n",
        "    'INDEX_FINGER_TIP': mp_hands.HandLandmark.INDEX_FINGER_TIP,\n",
        "    'MIDDLE_FINGER_MCP': mp_hands.HandLandmark.MIDDLE_FINGER_MCP,\n",
        "    'MIDDLE_FINGER_PIP': mp_hands.HandLandmark.MIDDLE_FINGER_PIP,\n",
        "    'MIDDLE_FINGER_DIP': mp_hands.HandLandmark.MIDDLE_FINGER_DIP,\n",
        "    'MIDDLE_FINGER_TIP': mp_hands.HandLandmark.MIDDLE_FINGER_TIP,\n",
        "    'RING_FINGER_MCP': mp_hands.HandLandmark.RING_FINGER_MCP,\n",
        "    'RING_FINGER_PIP': mp_hands.HandLandmark.RING_FINGER_PIP,\n",
        "    'RING_FINGER_DIP': mp_hands.HandLandmark.RING_FINGER_DIP,\n",
        "    'RING_FINGER_TIP': mp_hands.HandLandmark.RING_FINGER_TIP,\n",
        "    'PINKY_MCP': mp_hands.HandLandmark.PINKY_MCP,\n",
        "    'PINKY_PIP': mp_hands.HandLandmark.PINKY_PIP,\n",
        "    'PINKY_DIP': mp_hands.HandLandmark.PINKY_DIP,\n",
        "    'PINKY_TIP': mp_hands.HandLandmark.PINKY_TIP\n",
        "}\n",
        "\n",
        "def add_title_bar(image, title, bar_height=60, bg_color=(245, 117, 16)):\n",
        "    \"\"\"Add a title bar to the top of the image\"\"\"\n",
        "    h, w = image.shape[:2]\n",
        "    title_bar = np.full((bar_height, w, 3), bg_color, dtype=np.uint8)\n",
        "\n",
        "    font = cv2.FONT_HERSHEY_SIMPLEX\n",
        "    font_scale = 1\n",
        "    font_thickness = 2\n",
        "    text_color = (255, 255, 255)\n",
        "\n",
        "    text_size = cv2.getTextSize(title, font, font_scale, font_thickness)[0]\n",
        "    text_x = (w - text_size[0]) // 2\n",
        "    text_y = (bar_height + text_size[1]) // 2\n",
        "\n",
        "    cv2.putText(title_bar, title, (text_x, text_y), font, font_scale, text_color, font_thickness)\n",
        "    return np.vstack((title_bar, image))\n",
        "\n",
        "def get_video_files(master_folder):\n",
        "    \"\"\"Get the first video file from each subdirectory\"\"\"\n",
        "    video_files = []\n",
        "    video_extensions = ('.mp4', '.avi', '.mov', '.mkv')\n",
        "\n",
        "    for folder_path in Path(master_folder).iterdir():\n",
        "        if folder_path.is_dir():\n",
        "            # Get all video files in the current folder\n",
        "            folder_videos = [f for f in folder_path.iterdir() if f.suffix.lower() in video_extensions]\n",
        "            if folder_videos:\n",
        "                # Sort videos to ensure consistent selection and take the first one\n",
        "                first_video = sorted(folder_videos)[0]\n",
        "                sign_name = folder_path.name\n",
        "                video_files.append((str(first_video), sign_name))\n",
        "\n",
        "    return video_files\n",
        "\n",
        "def process_video(input_path, sign_name, output_folder):\n",
        "    \"\"\"Process a single video file\"\"\"\n",
        "    # Create output folder if it doesn't exist\n",
        "    os.makedirs(output_folder, exist_ok=True)\n",
        "\n",
        "    # Generate output path\n",
        "    output_filename = f\"{sign_name}_landmarks.mp4\"\n",
        "    output_path = os.path.join(output_folder, output_filename)\n",
        "\n",
        "    # Initialize VideoCapture\n",
        "    cap = cv2.VideoCapture(input_path)\n",
        "    width = int(cap.get(cv2.CAP_PROP_FRAME_WIDTH))\n",
        "    height = int(cap.get(cv2.CAP_PROP_FRAME_HEIGHT))\n",
        "    fps = int(cap.get(cv2.CAP_PROP_FPS))\n",
        "\n",
        "    # Calculate dimensions for the frame with title bar\n",
        "    title_bar_height = 60\n",
        "    combined_height = height + title_bar_height\n",
        "\n",
        "    # Initialize video writer\n",
        "    fourcc = cv2.VideoWriter_fourcc(*'mp4v')\n",
        "    out = cv2.VideoWriter(output_path, fourcc, fps, (width, combined_height))\n",
        "\n",
        "    # Setup mediapipe hands instance\n",
        "    with mp_hands.Hands(\n",
        "        static_image_mode=False,\n",
        "        max_num_hands=2,\n",
        "        min_detection_confidence=0.7,\n",
        "        min_tracking_confidence=0.5\n",
        "    ) as hands:\n",
        "        frame_count = int(cap.get(cv2.CAP_PROP_FRAME_COUNT))\n",
        "        current_frame = 0\n",
        "\n",
        "        while cap.isOpened():\n",
        "            ret, frame = cap.read()\n",
        "            if not ret:\n",
        "                break\n",
        "\n",
        "            current_frame += 1\n",
        "            if current_frame % 10 == 0:\n",
        "                print(f\"Processing {sign_name}: frame {current_frame} of {frame_count} ({(current_frame/frame_count*100):.1f}%)\")\n",
        "\n",
        "            # Convert BGR to RGB\n",
        "            image = cv2.cvtColor(frame, cv2.COLOR_BGR2RGB)\n",
        "            image.flags.writeable = False\n",
        "\n",
        "            # Process the image\n",
        "            results = hands.process(image)\n",
        "\n",
        "            image.flags.writeable = True\n",
        "            image = cv2.cvtColor(image, cv2.COLOR_RGB2BGR)\n",
        "\n",
        "            if results.multi_hand_landmarks:\n",
        "                for hand_landmarks in results.multi_hand_landmarks:\n",
        "                    # Draw hand connections\n",
        "                    mp_drawing.draw_landmarks(\n",
        "                        image,\n",
        "                        hand_landmarks,\n",
        "                        mp_hands.HAND_CONNECTIONS,\n",
        "                        mp_drawing_styles.get_default_hand_landmarks_style(),\n",
        "                        mp_drawing_styles.get_default_hand_connections_style()\n",
        "                    )\n",
        "\n",
        "                    # Add landmark points\n",
        "                    for landmark_id in HAND_LANDMARKS_DICT.values():\n",
        "                        landmark = hand_landmarks.landmark[landmark_id]\n",
        "                        x = int(landmark.x * width)\n",
        "                        y = int(landmark.y * height)\n",
        "                        cv2.circle(image, (x, y), 4, (0, 255, 0), -1)\n",
        "\n",
        "            # Add title bar with sign name\n",
        "            video_title = f\"Sign Language - {sign_name} (Hand Landmarks)\"\n",
        "            final_image = add_title_bar(image, video_title)\n",
        "\n",
        "            # Write the frame\n",
        "            out.write(final_image)\n",
        "\n",
        "        cap.release()\n",
        "        out.release()\n",
        "        print(f\"Completed processing {sign_name}! Output saved to: {output_path}\")\n",
        "\n",
        "def main():\n",
        "    # Define master folder path and output folder\n",
        "    master_folder = \"/content/drive/MyDrive/sign_language_project/THIWANKA 2/\"\n",
        "    output_folder = \"/content/drive/MyDrive/sign_language_project/processed_videos/\"\n",
        "\n",
        "    # Get list of videos to process\n",
        "    video_files = get_video_files(master_folder)\n",
        "\n",
        "    print(f\"Found {len(video_files)} videos to process\")\n",
        "\n",
        "    # Process each video\n",
        "    for input_path, sign_name in video_files:\n",
        "        print(f\"\\nProcessing sign: {sign_name}\")\n",
        "        print(f\"Input video: {input_path}\")\n",
        "        process_video(input_path, sign_name, output_folder)\n",
        "\n",
        "    print(\"\\nAll videos processed successfully!\")\n",
        "\n",
        "if __name__ == \"__main__\":\n",
        "    main()"
      ],
      "metadata": {
        "colab": {
          "base_uri": "https://localhost:8080/"
        },
        "id": "A0-KKZtMlCzH",
        "outputId": "820fe4a4-06dd-46cc-ae42-6bf6cd010ea9"
      },
      "execution_count": null,
      "outputs": [
        {
          "output_type": "stream",
          "name": "stdout",
          "text": [
            "Found 17 videos to process\n",
            "\n",
            "Processing sign: BUTTERFLY\n",
            "Input video: /content/drive/MyDrive/sign_language_project/THIWANKA 2/BUTTERFLY/WhatsApp Video 2024-10-23 at 13.03.12_9c7463b6 - Trim.mp4\n",
            "Processing BUTTERFLY: frame 10 of 114 (8.8%)\n",
            "Processing BUTTERFLY: frame 20 of 114 (17.5%)\n",
            "Processing BUTTERFLY: frame 30 of 114 (26.3%)\n",
            "Processing BUTTERFLY: frame 40 of 114 (35.1%)\n",
            "Processing BUTTERFLY: frame 50 of 114 (43.9%)\n",
            "Processing BUTTERFLY: frame 60 of 114 (52.6%)\n",
            "Processing BUTTERFLY: frame 70 of 114 (61.4%)\n",
            "Processing BUTTERFLY: frame 80 of 114 (70.2%)\n",
            "Processing BUTTERFLY: frame 90 of 114 (78.9%)\n",
            "Processing BUTTERFLY: frame 100 of 114 (87.7%)\n",
            "Processing BUTTERFLY: frame 110 of 114 (96.5%)\n",
            "Completed processing BUTTERFLY! Output saved to: /content/drive/MyDrive/sign_language_project/processed_videos/BUTTERFLY_landmarks.mp4\n",
            "\n",
            "Processing sign: CAT2\n",
            "Input video: /content/drive/MyDrive/sign_language_project/THIWANKA 2/CAT2/VID-20241023-WA0001 - Trim.mp4\n",
            "Processing CAT2: frame 10 of 51 (19.6%)\n",
            "Processing CAT2: frame 20 of 51 (39.2%)\n",
            "Processing CAT2: frame 30 of 51 (58.8%)\n",
            "Processing CAT2: frame 40 of 51 (78.4%)\n",
            "Processing CAT2: frame 50 of 51 (98.0%)\n",
            "Completed processing CAT2! Output saved to: /content/drive/MyDrive/sign_language_project/processed_videos/CAT2_landmarks.mp4\n",
            "\n",
            "Processing sign: apple\n",
            "Input video: /content/drive/MyDrive/sign_language_project/THIWANKA 2/apple/WhatsApp Video 2024-10-23 at 20.59.50_65860a7d - Trim.mp4\n",
            "Processing apple: frame 10 of 115 (8.7%)\n",
            "Processing apple: frame 20 of 115 (17.4%)\n",
            "Processing apple: frame 30 of 115 (26.1%)\n",
            "Processing apple: frame 40 of 115 (34.8%)\n",
            "Processing apple: frame 50 of 115 (43.5%)\n",
            "Processing apple: frame 60 of 115 (52.2%)\n",
            "Processing apple: frame 70 of 115 (60.9%)\n",
            "Processing apple: frame 80 of 115 (69.6%)\n",
            "Processing apple: frame 90 of 115 (78.3%)\n",
            "Processing apple: frame 100 of 115 (87.0%)\n",
            "Processing apple: frame 110 of 115 (95.7%)\n",
            "Completed processing apple! Output saved to: /content/drive/MyDrive/sign_language_project/processed_videos/apple_landmarks.mp4\n",
            "\n",
            "Processing sign: CAT 1\n",
            "Input video: /content/drive/MyDrive/sign_language_project/THIWANKA 2/CAT 1/VID-20241023-WA0011 - Trim.mp4\n",
            "Processing CAT 1: frame 10 of 75 (13.3%)\n",
            "Processing CAT 1: frame 20 of 75 (26.7%)\n",
            "Processing CAT 1: frame 30 of 75 (40.0%)\n",
            "Processing CAT 1: frame 40 of 75 (53.3%)\n",
            "Processing CAT 1: frame 50 of 75 (66.7%)\n",
            "Processing CAT 1: frame 60 of 75 (80.0%)\n",
            "Processing CAT 1: frame 70 of 75 (93.3%)\n",
            "Completed processing CAT 1! Output saved to: /content/drive/MyDrive/sign_language_project/processed_videos/CAT 1_landmarks.mp4\n",
            "\n",
            "Processing sign: banana 1\n",
            "Input video: /content/drive/MyDrive/sign_language_project/THIWANKA 2/banana 1/WhatsApp Video 2024-10-23 at 21.02.15_527d4696 - Trim.mp4\n",
            "Processing banana 1: frame 10 of 32 (31.2%)\n",
            "Processing banana 1: frame 20 of 32 (62.5%)\n",
            "Processing banana 1: frame 30 of 32 (93.8%)\n",
            "Completed processing banana 1! Output saved to: /content/drive/MyDrive/sign_language_project/processed_videos/banana 1_landmarks.mp4\n",
            "\n",
            "Processing sign: DOG\n",
            "Input video: /content/drive/MyDrive/sign_language_project/THIWANKA 2/DOG/WhatsApp Video 2024-10-23 at 16.01.10_f076a86d - Trim.mp4\n",
            "Processing DOG: frame 10 of 61 (16.4%)\n",
            "Processing DOG: frame 20 of 61 (32.8%)\n",
            "Processing DOG: frame 30 of 61 (49.2%)\n",
            "Processing DOG: frame 40 of 61 (65.6%)\n",
            "Processing DOG: frame 50 of 61 (82.0%)\n",
            "Processing DOG: frame 60 of 61 (98.4%)\n",
            "Completed processing DOG! Output saved to: /content/drive/MyDrive/sign_language_project/processed_videos/DOG_landmarks.mp4\n",
            "\n",
            "Processing sign: banana2\n",
            "Input video: /content/drive/MyDrive/sign_language_project/THIWANKA 2/banana2/WhatsApp Video 2024-10-23 at 21.07.06_7e26dc02 - Trim.mp4\n",
            "Processing banana2: frame 10 of 97 (10.3%)\n",
            "Processing banana2: frame 20 of 97 (20.6%)\n",
            "Processing banana2: frame 30 of 97 (30.9%)\n",
            "Processing banana2: frame 40 of 97 (41.2%)\n",
            "Processing banana2: frame 50 of 97 (51.5%)\n",
            "Processing banana2: frame 60 of 97 (61.9%)\n",
            "Processing banana2: frame 70 of 97 (72.2%)\n",
            "Processing banana2: frame 80 of 97 (82.5%)\n",
            "Processing banana2: frame 90 of 97 (92.8%)\n",
            "Completed processing banana2! Output saved to: /content/drive/MyDrive/sign_language_project/processed_videos/banana2_landmarks.mp4\n",
            "\n",
            "Processing sign: CIRCLE\n",
            "Input video: /content/drive/MyDrive/sign_language_project/THIWANKA 2/CIRCLE/VID-20241023-WA0001 - Trim.mp4\n",
            "Processing CIRCLE: frame 10 of 96 (10.4%)\n",
            "Processing CIRCLE: frame 20 of 96 (20.8%)\n",
            "Processing CIRCLE: frame 30 of 96 (31.2%)\n",
            "Processing CIRCLE: frame 40 of 96 (41.7%)\n",
            "Processing CIRCLE: frame 50 of 96 (52.1%)\n",
            "Processing CIRCLE: frame 60 of 96 (62.5%)\n",
            "Processing CIRCLE: frame 70 of 96 (72.9%)\n",
            "Processing CIRCLE: frame 80 of 96 (83.3%)\n",
            "Processing CIRCLE: frame 90 of 96 (93.8%)\n",
            "Completed processing CIRCLE! Output saved to: /content/drive/MyDrive/sign_language_project/processed_videos/CIRCLE_landmarks.mp4\n",
            "\n",
            "Processing sign: elephant\n",
            "Input video: /content/drive/MyDrive/sign_language_project/THIWANKA 2/elephant/WhatsApp Video 2024-10-23 at 16.36.46_52ee3030 - Trim.mp4\n",
            "Processing elephant: frame 10 of 91 (11.0%)\n",
            "Processing elephant: frame 20 of 91 (22.0%)\n",
            "Processing elephant: frame 30 of 91 (33.0%)\n",
            "Processing elephant: frame 40 of 91 (44.0%)\n",
            "Processing elephant: frame 50 of 91 (54.9%)\n",
            "Processing elephant: frame 60 of 91 (65.9%)\n",
            "Processing elephant: frame 70 of 91 (76.9%)\n",
            "Processing elephant: frame 80 of 91 (87.9%)\n",
            "Processing elephant: frame 90 of 91 (98.9%)\n",
            "Completed processing elephant! Output saved to: /content/drive/MyDrive/sign_language_project/processed_videos/elephant_landmarks.mp4\n",
            "\n",
            "Processing sign: DOG2\n",
            "Input video: /content/drive/MyDrive/sign_language_project/THIWANKA 2/DOG2/WhatsApp Video 2024-10-23 at 16.28.06_bc3ab7f8 - Trim.mp4\n",
            "Processing DOG2: frame 10 of 56 (17.9%)\n",
            "Processing DOG2: frame 20 of 56 (35.7%)\n",
            "Processing DOG2: frame 30 of 56 (53.6%)\n",
            "Processing DOG2: frame 40 of 56 (71.4%)\n",
            "Processing DOG2: frame 50 of 56 (89.3%)\n",
            "Completed processing DOG2! Output saved to: /content/drive/MyDrive/sign_language_project/processed_videos/DOG2_landmarks.mp4\n",
            "\n",
            "Processing sign: square\n",
            "Input video: /content/drive/MyDrive/sign_language_project/THIWANKA 2/square/WhatsApp Video 2024-10-23 at 20.12.02_c5158720 - Trim.mp4\n",
            "Processing square: frame 10 of 118 (8.5%)\n",
            "Processing square: frame 20 of 118 (16.9%)\n",
            "Processing square: frame 30 of 118 (25.4%)\n",
            "Processing square: frame 40 of 118 (33.9%)\n",
            "Processing square: frame 50 of 118 (42.4%)\n",
            "Processing square: frame 60 of 118 (50.8%)\n",
            "Processing square: frame 70 of 118 (59.3%)\n",
            "Processing square: frame 80 of 118 (67.8%)\n",
            "Processing square: frame 90 of 118 (76.3%)\n",
            "Processing square: frame 100 of 118 (84.7%)\n",
            "Processing square: frame 110 of 118 (93.2%)\n",
            "Completed processing square! Output saved to: /content/drive/MyDrive/sign_language_project/processed_videos/square_landmarks.mp4\n",
            "\n",
            "Processing sign: mango\n",
            "Input video: /content/drive/MyDrive/sign_language_project/THIWANKA 2/mango/WhatsApp Video 2024-10-23 at 23.17.10_46edab5b - Trim.mp4\n",
            "Processing mango: frame 10 of 64 (15.6%)\n",
            "Processing mango: frame 20 of 64 (31.2%)\n",
            "Processing mango: frame 30 of 64 (46.9%)\n",
            "Processing mango: frame 40 of 64 (62.5%)\n",
            "Processing mango: frame 50 of 64 (78.1%)\n",
            "Processing mango: frame 60 of 64 (93.8%)\n",
            "Completed processing mango! Output saved to: /content/drive/MyDrive/sign_language_project/processed_videos/mango_landmarks.mp4\n",
            "\n",
            "Processing sign: pomegranate\n",
            "Input video: /content/drive/MyDrive/sign_language_project/THIWANKA 2/pomegranate/WhatsApp Video 2024-10-23 at 23.36.33_770ba772 - Trim.mp4\n",
            "Processing pomegranate: frame 10 of 72 (13.9%)\n",
            "Processing pomegranate: frame 20 of 72 (27.8%)\n",
            "Processing pomegranate: frame 30 of 72 (41.7%)\n",
            "Processing pomegranate: frame 40 of 72 (55.6%)\n",
            "Processing pomegranate: frame 50 of 72 (69.4%)\n",
            "Processing pomegranate: frame 60 of 72 (83.3%)\n",
            "Processing pomegranate: frame 70 of 72 (97.2%)\n",
            "Completed processing pomegranate! Output saved to: /content/drive/MyDrive/sign_language_project/processed_videos/pomegranate_landmarks.mp4\n",
            "\n",
            "Processing sign: parrot\n",
            "Input video: /content/drive/MyDrive/sign_language_project/THIWANKA 2/parrot/WhatsApp Video 2024-10-23 at 18.34.39_f7fcb6d9 - Trim.mp4\n",
            "Processing parrot: frame 10 of 98 (10.2%)\n",
            "Processing parrot: frame 20 of 98 (20.4%)\n",
            "Processing parrot: frame 30 of 98 (30.6%)\n",
            "Processing parrot: frame 40 of 98 (40.8%)\n",
            "Processing parrot: frame 50 of 98 (51.0%)\n",
            "Processing parrot: frame 60 of 98 (61.2%)\n",
            "Processing parrot: frame 70 of 98 (71.4%)\n",
            "Processing parrot: frame 80 of 98 (81.6%)\n",
            "Processing parrot: frame 90 of 98 (91.8%)\n",
            "Completed processing parrot! Output saved to: /content/drive/MyDrive/sign_language_project/processed_videos/parrot_landmarks.mp4\n",
            "\n",
            "Processing sign: rectangle\n",
            "Input video: /content/drive/MyDrive/sign_language_project/THIWANKA 2/rectangle/WhatsApp Video 2024-10-23 at 18.54.01_7ad74aeb - Trim.mp4\n",
            "Processing rectangle: frame 10 of 156 (6.4%)\n",
            "Processing rectangle: frame 20 of 156 (12.8%)\n",
            "Processing rectangle: frame 30 of 156 (19.2%)\n",
            "Processing rectangle: frame 40 of 156 (25.6%)\n",
            "Processing rectangle: frame 50 of 156 (32.1%)\n",
            "Processing rectangle: frame 60 of 156 (38.5%)\n",
            "Processing rectangle: frame 70 of 156 (44.9%)\n",
            "Processing rectangle: frame 80 of 156 (51.3%)\n",
            "Processing rectangle: frame 90 of 156 (57.7%)\n",
            "Processing rectangle: frame 100 of 156 (64.1%)\n",
            "Processing rectangle: frame 110 of 156 (70.5%)\n",
            "Processing rectangle: frame 120 of 156 (76.9%)\n",
            "Processing rectangle: frame 130 of 156 (83.3%)\n",
            "Processing rectangle: frame 140 of 156 (89.7%)\n",
            "Processing rectangle: frame 150 of 156 (96.2%)\n",
            "Completed processing rectangle! Output saved to: /content/drive/MyDrive/sign_language_project/processed_videos/rectangle_landmarks.mp4\n",
            "\n",
            "Processing sign: pineapple\n",
            "Input video: /content/drive/MyDrive/sign_language_project/THIWANKA 2/pineapple/WhatsApp Video 2024-10-23 at 23.32.59_fd93c700 - Trim.mp4\n",
            "Processing pineapple: frame 10 of 76 (13.2%)\n",
            "Processing pineapple: frame 20 of 76 (26.3%)\n",
            "Processing pineapple: frame 30 of 76 (39.5%)\n",
            "Processing pineapple: frame 40 of 76 (52.6%)\n",
            "Processing pineapple: frame 50 of 76 (65.8%)\n",
            "Processing pineapple: frame 60 of 76 (78.9%)\n",
            "Processing pineapple: frame 70 of 76 (92.1%)\n",
            "Completed processing pineapple! Output saved to: /content/drive/MyDrive/sign_language_project/processed_videos/pineapple_landmarks.mp4\n",
            "\n",
            "Processing sign: triangle\n",
            "Input video: /content/drive/MyDrive/sign_language_project/THIWANKA 2/triangle/WhatsApp Video 2024-10-23 at 20.38.02_d0046539 - Trim.mp4\n",
            "Processing triangle: frame 10 of 100 (10.0%)\n",
            "Processing triangle: frame 20 of 100 (20.0%)\n",
            "Processing triangle: frame 30 of 100 (30.0%)\n",
            "Processing triangle: frame 40 of 100 (40.0%)\n",
            "Processing triangle: frame 50 of 100 (50.0%)\n",
            "Processing triangle: frame 60 of 100 (60.0%)\n",
            "Processing triangle: frame 70 of 100 (70.0%)\n",
            "Processing triangle: frame 80 of 100 (80.0%)\n",
            "Processing triangle: frame 90 of 100 (90.0%)\n",
            "Processing triangle: frame 100 of 100 (100.0%)\n",
            "Completed processing triangle! Output saved to: /content/drive/MyDrive/sign_language_project/processed_videos/triangle_landmarks.mp4\n",
            "\n",
            "All videos processed successfully!\n"
          ]
        }
      ]
    },
    {
      "cell_type": "code",
      "source": [
        "import cv2\n",
        "import mediapipe as mp\n",
        "import numpy as np\n",
        "import pandas as pd\n",
        "import os\n",
        "from pathlib import Path\n",
        "from tqdm import tqdm\n",
        "\n",
        "class LandmarkDatasetCreator:\n",
        "    def __init__(self):\n",
        "        self.mp_hands = mp.solutions.hands\n",
        "        self.hands = self.mp_hands.Hands(\n",
        "            static_image_mode=False,\n",
        "            max_num_hands=2,\n",
        "            min_detection_confidence=0.7,\n",
        "            min_tracking_confidence=0.5\n",
        "        )\n",
        "\n",
        "        # Define column names for the dataset\n",
        "        self.landmark_columns = []\n",
        "        for landmark in ['WRIST'] + [name.split('_')[0] for name in HAND_LANDMARKS_DICT.keys()]:\n",
        "            self.landmark_columns.extend([f'{landmark}_x', f'{landmark}_y', f'{landmark}_z'])\n",
        "\n",
        "    def extract_landmarks(self, frame):\n",
        "        \"\"\"Extract hand landmarks from a single frame\"\"\"\n",
        "        # Convert BGR to RGB\n",
        "        image = cv2.cvtColor(frame, cv2.COLOR_BGR2RGB)\n",
        "\n",
        "        # Process the image\n",
        "        results = self.hands.process(image)\n",
        "\n",
        "        if not results.multi_hand_landmarks:\n",
        "            return None\n",
        "\n",
        "        # We'll use the first detected hand only for simplicity\n",
        "        # You can modify this to handle multiple hands if needed\n",
        "        landmarks = results.multi_hand_landmarks[0]\n",
        "\n",
        "        # Extract coordinates\n",
        "        coords = []\n",
        "        for landmark in landmarks.landmark:\n",
        "            coords.extend([landmark.x, landmark.y, landmark.z])\n",
        "\n",
        "        return coords\n",
        "\n",
        "    def process_video(self, video_path, sign_name):\n",
        "        \"\"\"Process a single video and extract landmarks from each frame\"\"\"\n",
        "        cap = cv2.VideoCapture(video_path)\n",
        "        frames_data = []\n",
        "\n",
        "        while cap.isOpened():\n",
        "            ret, frame = cap.read()\n",
        "            if not ret:\n",
        "                break\n",
        "\n",
        "            landmarks = self.extract_landmarks(frame)\n",
        "            if landmarks is not None:\n",
        "                frames_data.append(landmarks)\n",
        "\n",
        "        cap.release()\n",
        "\n",
        "        # Convert to DataFrame\n",
        "        if frames_data:\n",
        "            df = pd.DataFrame(frames_data, columns=self.landmark_columns)\n",
        "            df['sign'] = sign_name\n",
        "            return df\n",
        "\n",
        "        return None\n",
        "\n",
        "    def create_dataset(self, master_folder, output_path):\n",
        "        \"\"\"Create dataset from all videos in the master folder\"\"\"\n",
        "        video_extensions = ('.mp4', '.avi', '.mov', '.mkv')\n",
        "        all_data = []\n",
        "\n",
        "        # Get all folders (signs)\n",
        "        folders = [f for f in Path(master_folder).iterdir() if f.is_dir()]\n",
        "\n",
        "        for folder in tqdm(folders, desc=\"Processing signs\"):\n",
        "            sign_name = folder.name\n",
        "            print(f\"\\nProcessing sign: {sign_name}\")\n",
        "\n",
        "            # Get all videos for this sign\n",
        "            videos = [f for f in folder.iterdir() if f.suffix.lower() in video_extensions]\n",
        "\n",
        "            for video_path in tqdm(videos, desc=\"Processing videos\", leave=False):\n",
        "                print(f\"Processing video: {video_path}\")\n",
        "                try:\n",
        "                    df = self.process_video(str(video_path), sign_name)\n",
        "                    if df is not None:\n",
        "                        all_data.append(df)\n",
        "                except Exception as e:\n",
        "                    print(f\"Error processing {video_path}: {str(e)}\")\n",
        "\n",
        "        # Combine all data\n",
        "        if all_data:\n",
        "            final_df = pd.concat(all_data, ignore_index=True)\n",
        "\n",
        "            # Add statistical features\n",
        "            print(\"Calculating statistical features...\")\n",
        "            for coord in ['x', 'y', 'z']:\n",
        "                coord_cols = [col for col in final_df.columns if col.endswith(f'_{coord}')]\n",
        "                final_df[f'mean_{coord}'] = final_df[coord_cols].mean(axis=1)\n",
        "                final_df[f'std_{coord}'] = final_df[coord_cols].std(axis=1)\n",
        "                final_df[f'max_{coord}'] = final_df[coord_cols].max(axis=1)\n",
        "                final_df[f'min_{coord}'] = final_df[coord_cols].min(axis=1)\n",
        "\n",
        "            # Save to CSV\n",
        "            print(f\"Saving dataset to {output_path}\")\n",
        "            final_df.to_csv(output_path, index=False)\n",
        "\n",
        "            # Print dataset statistics\n",
        "            print(\"\\nDataset Statistics:\")\n",
        "            print(f\"Total samples: {len(final_df)}\")\n",
        "            print(\"\\nSamples per sign:\")\n",
        "            print(final_df['sign'].value_counts())\n",
        "\n",
        "            return final_df\n",
        "\n",
        "        return None\n",
        "\n",
        "def main():\n",
        "    # Define paths\n",
        "    master_folder = \"/content/drive/MyDrive/sign_language_project/THIWANKA 2/\"\n",
        "    output_path = \"/content/drive/MyDrive/sign_language_project/hand_landmarks_dataset.csv\"\n",
        "\n",
        "    # Create dataset\n",
        "    creator = LandmarkDatasetCreator()\n",
        "    dataset = creator.create_dataset(master_folder, output_path)\n",
        "\n",
        "    if dataset is not None:\n",
        "        # Display sample of the dataset\n",
        "        print(\"\\nDataset Preview:\")\n",
        "        print(dataset.head())\n",
        "\n",
        "        # Display feature statistics\n",
        "        print(\"\\nFeature Statistics:\")\n",
        "        print(dataset.describe())\n",
        "    else:\n",
        "        print(\"No data was processed successfully.\")\n",
        "\n",
        "if __name__ == \"__main__\":\n",
        "    main()"
      ],
      "metadata": {
        "colab": {
          "base_uri": "https://localhost:8080/"
        },
        "id": "-E2mP5GwrCEU",
        "outputId": "f5a9f1bf-5fa0-4366-be14-4c9c33c1d3c0"
      },
      "execution_count": null,
      "outputs": [
        {
          "output_type": "stream",
          "name": "stderr",
          "text": [
            "\rProcessing signs:   0%|          | 0/17 [00:00<?, ?it/s]"
          ]
        },
        {
          "output_type": "stream",
          "name": "stdout",
          "text": [
            "\n",
            "Processing sign: BUTTERFLY\n"
          ]
        },
        {
          "output_type": "stream",
          "name": "stderr",
          "text": [
            "\n",
            "Processing videos:   0%|          | 0/10 [00:00<?, ?it/s]\u001b[A"
          ]
        },
        {
          "output_type": "stream",
          "name": "stdout",
          "text": [
            "Processing video: /content/drive/MyDrive/sign_language_project/THIWANKA 2/BUTTERFLY/WhatsApp Video 2024-10-23 at 13.03.12_9c7463b6 - Trim.mp4\n"
          ]
        },
        {
          "output_type": "stream",
          "name": "stderr",
          "text": [
            "\n",
            "Processing videos:  10%|█         | 1/10 [00:09<01:28,  9.89s/it]\u001b[A"
          ]
        },
        {
          "output_type": "stream",
          "name": "stdout",
          "text": [
            "Processing video: /content/drive/MyDrive/sign_language_project/THIWANKA 2/BUTTERFLY/WhatsApp Video 2024-10-23 at 13.04.40_de25d4f5 - Trim.mp4\n"
          ]
        },
        {
          "output_type": "stream",
          "name": "stderr",
          "text": [
            "\n",
            "Processing videos:  20%|██        | 2/10 [00:14<00:53,  6.66s/it]\u001b[A"
          ]
        },
        {
          "output_type": "stream",
          "name": "stdout",
          "text": [
            "Processing video: /content/drive/MyDrive/sign_language_project/THIWANKA 2/BUTTERFLY/WhatsApp Video 2024-10-23 at 13.05.03_2ac50ed9 - Trim.mp4\n"
          ]
        },
        {
          "output_type": "stream",
          "name": "stderr",
          "text": [
            "\n",
            "Processing videos:  30%|███       | 3/10 [00:20<00:46,  6.64s/it]\u001b[A"
          ]
        },
        {
          "output_type": "stream",
          "name": "stdout",
          "text": [
            "Processing video: /content/drive/MyDrive/sign_language_project/THIWANKA 2/BUTTERFLY/WhatsApp Video 2024-10-23 at 13.06.11_e9302305 - Trim.mp4\n"
          ]
        },
        {
          "output_type": "stream",
          "name": "stderr",
          "text": [
            "\n",
            "Processing videos:  40%|████      | 4/10 [00:25<00:36,  6.03s/it]\u001b[A"
          ]
        },
        {
          "output_type": "stream",
          "name": "stdout",
          "text": [
            "Processing video: /content/drive/MyDrive/sign_language_project/THIWANKA 2/BUTTERFLY/WhatsApp Video 2024-10-23 at 13.06.13_e7d56bde - Trim.mp4\n"
          ]
        },
        {
          "output_type": "stream",
          "name": "stderr",
          "text": [
            "\n",
            "Processing videos:  50%|█████     | 5/10 [00:30<00:28,  5.60s/it]\u001b[A"
          ]
        },
        {
          "output_type": "stream",
          "name": "stdout",
          "text": [
            "Processing video: /content/drive/MyDrive/sign_language_project/THIWANKA 2/BUTTERFLY/WhatsApp Video 2024-10-23 at 13.10.52_d4c90197 - Trim.mp4\n"
          ]
        },
        {
          "output_type": "stream",
          "name": "stderr",
          "text": [
            "\n",
            "Processing videos:  60%|██████    | 6/10 [00:35<00:21,  5.33s/it]\u001b[A"
          ]
        },
        {
          "output_type": "stream",
          "name": "stdout",
          "text": [
            "Processing video: /content/drive/MyDrive/sign_language_project/THIWANKA 2/BUTTERFLY/WhatsApp Video 2024-10-23 at 13.05.03_2ac50ed9 - Trim - Trim.mp4\n"
          ]
        },
        {
          "output_type": "stream",
          "name": "stderr",
          "text": [
            "\n",
            "Processing videos:  70%|███████   | 7/10 [00:39<00:14,  4.85s/it]\u001b[A"
          ]
        },
        {
          "output_type": "stream",
          "name": "stdout",
          "text": [
            "Processing video: /content/drive/MyDrive/sign_language_project/THIWANKA 2/BUTTERFLY/WhatsApp Video 2024-10-23 at 13.11.06_22feebdc - Trim.mp4\n"
          ]
        },
        {
          "output_type": "stream",
          "name": "stderr",
          "text": [
            "\n",
            "Processing videos:  80%|████████  | 8/10 [00:43<00:09,  4.52s/it]\u001b[A"
          ]
        },
        {
          "output_type": "stream",
          "name": "stdout",
          "text": [
            "Processing video: /content/drive/MyDrive/sign_language_project/THIWANKA 2/BUTTERFLY/WhatsApp Video 2024-10-23 at 13.10.53_e4019a7c - Trim.mp4\n"
          ]
        },
        {
          "output_type": "stream",
          "name": "stderr",
          "text": [
            "\n",
            "Processing videos:  90%|█████████ | 9/10 [00:52<00:05,  5.89s/it]\u001b[A"
          ]
        },
        {
          "output_type": "stream",
          "name": "stdout",
          "text": [
            "Processing video: /content/drive/MyDrive/sign_language_project/THIWANKA 2/BUTTERFLY/WhatsApp Video 2024-10-23 at 13.10.53_bf87ca94 - Trim.mp4\n"
          ]
        },
        {
          "output_type": "stream",
          "name": "stderr",
          "text": [
            "\n",
            "Processing videos: 100%|██████████| 10/10 [00:57<00:00,  5.57s/it]\u001b[A\n",
            "Processing signs:   6%|▌         | 1/17 [00:57<15:13, 57.11s/it]"
          ]
        },
        {
          "output_type": "stream",
          "name": "stdout",
          "text": [
            "\n",
            "Processing sign: CAT2\n"
          ]
        },
        {
          "output_type": "stream",
          "name": "stderr",
          "text": [
            "\n",
            "Processing videos:   0%|          | 0/10 [00:00<?, ?it/s]\u001b[A"
          ]
        },
        {
          "output_type": "stream",
          "name": "stdout",
          "text": [
            "Processing video: /content/drive/MyDrive/sign_language_project/THIWANKA 2/CAT2/VID-20241023-WA0001 - Trim.mp4\n"
          ]
        },
        {
          "output_type": "stream",
          "name": "stderr",
          "text": [
            "\n",
            "Processing videos:  10%|█         | 1/10 [00:03<00:27,  3.04s/it]\u001b[A"
          ]
        },
        {
          "output_type": "stream",
          "name": "stdout",
          "text": [
            "Processing video: /content/drive/MyDrive/sign_language_project/THIWANKA 2/CAT2/VID-20241023-WA0002 - Trim.mp4\n"
          ]
        },
        {
          "output_type": "stream",
          "name": "stderr",
          "text": [
            "\n",
            "Processing videos:  20%|██        | 2/10 [00:07<00:32,  4.08s/it]\u001b[A"
          ]
        },
        {
          "output_type": "stream",
          "name": "stdout",
          "text": [
            "Processing video: /content/drive/MyDrive/sign_language_project/THIWANKA 2/CAT2/VID-20241023-WA0003 - Trim.mp4\n"
          ]
        },
        {
          "output_type": "stream",
          "name": "stderr",
          "text": [
            "\n",
            "Processing videos:  30%|███       | 3/10 [00:12<00:30,  4.30s/it]\u001b[A"
          ]
        },
        {
          "output_type": "stream",
          "name": "stdout",
          "text": [
            "Processing video: /content/drive/MyDrive/sign_language_project/THIWANKA 2/CAT2/VID-20241023-WA0004 - Trim.mp4\n"
          ]
        },
        {
          "output_type": "stream",
          "name": "stderr",
          "text": [
            "\n",
            "Processing videos:  40%|████      | 4/10 [00:17<00:28,  4.74s/it]\u001b[A"
          ]
        },
        {
          "output_type": "stream",
          "name": "stdout",
          "text": [
            "Processing video: /content/drive/MyDrive/sign_language_project/THIWANKA 2/CAT2/VID-20241023-WA0005 - Trim.mp4\n"
          ]
        },
        {
          "output_type": "stream",
          "name": "stderr",
          "text": [
            "\n",
            "Processing videos:  50%|█████     | 5/10 [00:23<00:25,  5.19s/it]\u001b[A"
          ]
        },
        {
          "output_type": "stream",
          "name": "stdout",
          "text": [
            "Processing video: /content/drive/MyDrive/sign_language_project/THIWANKA 2/CAT2/VID-20241023-WA0006 - Trim.mp4\n"
          ]
        },
        {
          "output_type": "stream",
          "name": "stderr",
          "text": [
            "\n",
            "Processing videos:  60%|██████    | 6/10 [00:28<00:20,  5.09s/it]\u001b[A"
          ]
        },
        {
          "output_type": "stream",
          "name": "stdout",
          "text": [
            "Processing video: /content/drive/MyDrive/sign_language_project/THIWANKA 2/CAT2/VID-20241023-WA0007 - Trim.mp4\n"
          ]
        },
        {
          "output_type": "stream",
          "name": "stderr",
          "text": [
            "\n",
            "Processing videos:  70%|███████   | 7/10 [00:33<00:14,  4.90s/it]\u001b[A"
          ]
        },
        {
          "output_type": "stream",
          "name": "stdout",
          "text": [
            "Processing video: /content/drive/MyDrive/sign_language_project/THIWANKA 2/CAT2/VID-20241023-WA0008 - Trim.mp4\n"
          ]
        },
        {
          "output_type": "stream",
          "name": "stderr",
          "text": [
            "\n",
            "Processing videos:  80%|████████  | 8/10 [00:39<00:10,  5.43s/it]\u001b[A"
          ]
        },
        {
          "output_type": "stream",
          "name": "stdout",
          "text": [
            "Processing video: /content/drive/MyDrive/sign_language_project/THIWANKA 2/CAT2/VID-20241023-WA0009 - Trim.mp4\n"
          ]
        },
        {
          "output_type": "stream",
          "name": "stderr",
          "text": [
            "\n",
            "Processing videos:  90%|█████████ | 9/10 [00:43<00:04,  4.97s/it]\u001b[A"
          ]
        },
        {
          "output_type": "stream",
          "name": "stdout",
          "text": [
            "Processing video: /content/drive/MyDrive/sign_language_project/THIWANKA 2/CAT2/VID-20241023-WA0010 - Trim.mp4\n"
          ]
        },
        {
          "output_type": "stream",
          "name": "stderr",
          "text": [
            "\n",
            "Processing videos: 100%|██████████| 10/10 [00:49<00:00,  5.13s/it]\u001b[A\n",
            "Processing signs:  12%|█▏        | 2/17 [01:46<13:07, 52.50s/it]"
          ]
        },
        {
          "output_type": "stream",
          "name": "stdout",
          "text": [
            "\n",
            "Processing sign: apple\n"
          ]
        },
        {
          "output_type": "stream",
          "name": "stderr",
          "text": [
            "\n",
            "Processing videos:   0%|          | 0/10 [00:00<?, ?it/s]\u001b[A"
          ]
        },
        {
          "output_type": "stream",
          "name": "stdout",
          "text": [
            "Processing video: /content/drive/MyDrive/sign_language_project/THIWANKA 2/apple/WhatsApp Video 2024-10-23 at 20.59.50_65860a7d - Trim.mp4\n"
          ]
        },
        {
          "output_type": "stream",
          "name": "stderr",
          "text": [
            "\n",
            "Processing videos:  10%|█         | 1/10 [00:08<01:16,  8.54s/it]\u001b[A"
          ]
        },
        {
          "output_type": "stream",
          "name": "stdout",
          "text": [
            "Processing video: /content/drive/MyDrive/sign_language_project/THIWANKA 2/apple/WhatsApp Video 2024-10-23 at 21.01.44_4316318b - Trim.mp4\n"
          ]
        },
        {
          "output_type": "stream",
          "name": "stderr",
          "text": [
            "\n",
            "Processing videos:  20%|██        | 2/10 [00:16<01:04,  8.11s/it]\u001b[A"
          ]
        },
        {
          "output_type": "stream",
          "name": "stdout",
          "text": [
            "Processing video: /content/drive/MyDrive/sign_language_project/THIWANKA 2/apple/WhatsApp Video 2024-10-23 at 21.01.44_4570e69a - Trim.mp4\n"
          ]
        },
        {
          "output_type": "stream",
          "name": "stderr",
          "text": [
            "\n",
            "Processing videos:  30%|███       | 3/10 [00:25<00:58,  8.42s/it]\u001b[A"
          ]
        },
        {
          "output_type": "stream",
          "name": "stdout",
          "text": [
            "Processing video: /content/drive/MyDrive/sign_language_project/THIWANKA 2/apple/WhatsApp Video 2024-10-23 at 21.01.45_3ef1a274 - Trim.mp4\n"
          ]
        },
        {
          "output_type": "stream",
          "name": "stderr",
          "text": [
            "\n",
            "Processing videos:  40%|████      | 4/10 [00:31<00:44,  7.45s/it]\u001b[A"
          ]
        },
        {
          "output_type": "stream",
          "name": "stdout",
          "text": [
            "Processing video: /content/drive/MyDrive/sign_language_project/THIWANKA 2/apple/WhatsApp Video 2024-10-23 at 21.01.45_abf3ff3a - Trim.mp4\n"
          ]
        },
        {
          "output_type": "stream",
          "name": "stderr",
          "text": [
            "\n",
            "Processing videos:  50%|█████     | 5/10 [00:38<00:37,  7.45s/it]\u001b[A"
          ]
        },
        {
          "output_type": "stream",
          "name": "stdout",
          "text": [
            "Processing video: /content/drive/MyDrive/sign_language_project/THIWANKA 2/apple/WhatsApp Video 2024-10-23 at 21.01.46_be4bf2d0 - Trim.mp4\n"
          ]
        },
        {
          "output_type": "stream",
          "name": "stderr",
          "text": [
            "\n",
            "Processing videos:  60%|██████    | 6/10 [00:42<00:25,  6.40s/it]\u001b[A"
          ]
        },
        {
          "output_type": "stream",
          "name": "stdout",
          "text": [
            "Processing video: /content/drive/MyDrive/sign_language_project/THIWANKA 2/apple/WhatsApp Video 2024-10-23 at 21.01.47_abf3dc90 - Trim.mp4\n"
          ]
        },
        {
          "output_type": "stream",
          "name": "stderr",
          "text": [
            "\n",
            "Processing videos:  70%|███████   | 7/10 [00:49<00:19,  6.51s/it]\u001b[A"
          ]
        },
        {
          "output_type": "stream",
          "name": "stdout",
          "text": [
            "Processing video: /content/drive/MyDrive/sign_language_project/THIWANKA 2/apple/WhatsApp Video 2024-10-23 at 21.01.47_a1cabf33 - Trim.mp4\n"
          ]
        },
        {
          "output_type": "stream",
          "name": "stderr",
          "text": [
            "\n",
            "Processing videos:  80%|████████  | 8/10 [00:55<00:12,  6.32s/it]\u001b[A"
          ]
        },
        {
          "output_type": "stream",
          "name": "stdout",
          "text": [
            "Processing video: /content/drive/MyDrive/sign_language_project/THIWANKA 2/apple/WhatsApp Video 2024-10-23 at 21.01.44_e8e8b329 - Trim.mp4\n"
          ]
        },
        {
          "output_type": "stream",
          "name": "stderr",
          "text": [
            "\n",
            "Processing videos:  90%|█████████ | 9/10 [01:02<00:06,  6.53s/it]\u001b[A"
          ]
        },
        {
          "output_type": "stream",
          "name": "stdout",
          "text": [
            "Processing video: /content/drive/MyDrive/sign_language_project/THIWANKA 2/apple/WhatsApp Video 2024-10-23 at 21.01.44_b8b9b5c0 - Trim.mp4\n"
          ]
        },
        {
          "output_type": "stream",
          "name": "stderr",
          "text": [
            "\n",
            "Processing videos: 100%|██████████| 10/10 [01:11<00:00,  7.17s/it]\u001b[A\n",
            "Processing signs:  18%|█▊        | 3/17 [02:57<14:14, 61.02s/it]"
          ]
        },
        {
          "output_type": "stream",
          "name": "stdout",
          "text": [
            "\n",
            "Processing sign: CAT 1\n"
          ]
        },
        {
          "output_type": "stream",
          "name": "stderr",
          "text": [
            "\n",
            "Processing videos:   0%|          | 0/12 [00:00<?, ?it/s]\u001b[A"
          ]
        },
        {
          "output_type": "stream",
          "name": "stdout",
          "text": [
            "Processing video: /content/drive/MyDrive/sign_language_project/THIWANKA 2/CAT 1/VID-20241023-WA0011 - Trim.mp4\n"
          ]
        },
        {
          "output_type": "stream",
          "name": "stderr",
          "text": [
            "\n",
            "Processing videos:   8%|▊         | 1/12 [00:04<00:47,  4.36s/it]\u001b[A"
          ]
        },
        {
          "output_type": "stream",
          "name": "stdout",
          "text": [
            "Processing video: /content/drive/MyDrive/sign_language_project/THIWANKA 2/CAT 1/VID-20241023-WA0012 - Trim.mp4\n"
          ]
        },
        {
          "output_type": "stream",
          "name": "stderr",
          "text": [
            "\n",
            "Processing videos:  17%|█▋        | 2/12 [00:11<00:57,  5.78s/it]\u001b[A"
          ]
        },
        {
          "output_type": "stream",
          "name": "stdout",
          "text": [
            "Processing video: /content/drive/MyDrive/sign_language_project/THIWANKA 2/CAT 1/VID-20241023-WA0013 - Trim.mp4\n"
          ]
        },
        {
          "output_type": "stream",
          "name": "stderr",
          "text": [
            "\n",
            "Processing videos:  25%|██▌       | 3/12 [00:15<00:44,  5.00s/it]\u001b[A"
          ]
        },
        {
          "output_type": "stream",
          "name": "stdout",
          "text": [
            "Processing video: /content/drive/MyDrive/sign_language_project/THIWANKA 2/CAT 1/VID-20241023-WA0014 - Trim.mp4\n"
          ]
        },
        {
          "output_type": "stream",
          "name": "stderr",
          "text": [
            "\n",
            "Processing videos:  33%|███▎      | 4/12 [00:18<00:34,  4.31s/it]\u001b[A"
          ]
        },
        {
          "output_type": "stream",
          "name": "stdout",
          "text": [
            "Processing video: /content/drive/MyDrive/sign_language_project/THIWANKA 2/CAT 1/VID-20241023-WA0015 - Trim.mp4\n"
          ]
        },
        {
          "output_type": "stream",
          "name": "stderr",
          "text": [
            "\n",
            "Processing videos:  42%|████▏     | 5/12 [00:21<00:27,  3.90s/it]\u001b[A"
          ]
        },
        {
          "output_type": "stream",
          "name": "stdout",
          "text": [
            "Processing video: /content/drive/MyDrive/sign_language_project/THIWANKA 2/CAT 1/VID-20241023-WA0016 - Trim.mp4\n"
          ]
        },
        {
          "output_type": "stream",
          "name": "stderr",
          "text": [
            "\n",
            "Processing videos:  50%|█████     | 6/12 [00:27<00:26,  4.42s/it]\u001b[A"
          ]
        },
        {
          "output_type": "stream",
          "name": "stdout",
          "text": [
            "Processing video: /content/drive/MyDrive/sign_language_project/THIWANKA 2/CAT 1/VID-20241023-WA0017 - Trim.mp4\n"
          ]
        },
        {
          "output_type": "stream",
          "name": "stderr",
          "text": [
            "\n",
            "Processing videos:  58%|█████▊    | 7/12 [00:32<00:23,  4.63s/it]\u001b[A"
          ]
        },
        {
          "output_type": "stream",
          "name": "stdout",
          "text": [
            "Processing video: /content/drive/MyDrive/sign_language_project/THIWANKA 2/CAT 1/VID-20241023-WA0018 - Trim.mp4\n"
          ]
        },
        {
          "output_type": "stream",
          "name": "stderr",
          "text": [
            "\n",
            "Processing videos:  67%|██████▋   | 8/12 [00:40<00:23,  5.93s/it]\u001b[A"
          ]
        },
        {
          "output_type": "stream",
          "name": "stdout",
          "text": [
            "Processing video: /content/drive/MyDrive/sign_language_project/THIWANKA 2/CAT 1/VID-20241023-WA0019 - Trim.mp4\n"
          ]
        },
        {
          "output_type": "stream",
          "name": "stderr",
          "text": [
            "\n",
            "Processing videos:  75%|███████▌  | 9/12 [00:46<00:17,  5.82s/it]\u001b[A"
          ]
        },
        {
          "output_type": "stream",
          "name": "stdout",
          "text": [
            "Processing video: /content/drive/MyDrive/sign_language_project/THIWANKA 2/CAT 1/VID-20241023-WA0020 - Trim.mp4\n"
          ]
        },
        {
          "output_type": "stream",
          "name": "stderr",
          "text": [
            "\n",
            "Processing videos:  83%|████████▎ | 10/12 [00:52<00:11,  5.84s/it]\u001b[A"
          ]
        },
        {
          "output_type": "stream",
          "name": "stdout",
          "text": [
            "Processing video: /content/drive/MyDrive/sign_language_project/THIWANKA 2/CAT 1/VID-20241023-WA0021 - Trim.mp4\n"
          ]
        },
        {
          "output_type": "stream",
          "name": "stderr",
          "text": [
            "\n",
            "Processing videos:  92%|█████████▏| 11/12 [00:57<00:05,  5.76s/it]\u001b[A"
          ]
        },
        {
          "output_type": "stream",
          "name": "stdout",
          "text": [
            "Processing video: /content/drive/MyDrive/sign_language_project/THIWANKA 2/CAT 1/WhatsApp Video 2024-10-23 at 13.36.50_913d2b62 - Trim.mp4\n"
          ]
        },
        {
          "output_type": "stream",
          "name": "stderr",
          "text": [
            "\n",
            "Processing videos: 100%|██████████| 12/12 [01:03<00:00,  5.72s/it]\u001b[A\n",
            "Processing signs:  24%|██▎       | 4/17 [04:01<13:26, 62.02s/it]"
          ]
        },
        {
          "output_type": "stream",
          "name": "stdout",
          "text": [
            "\n",
            "Processing sign: banana 1\n"
          ]
        },
        {
          "output_type": "stream",
          "name": "stderr",
          "text": [
            "\n",
            "Processing videos:   0%|          | 0/10 [00:00<?, ?it/s]\u001b[A"
          ]
        },
        {
          "output_type": "stream",
          "name": "stdout",
          "text": [
            "Processing video: /content/drive/MyDrive/sign_language_project/THIWANKA 2/banana 1/WhatsApp Video 2024-10-23 at 22.55.49_42fff37e - Trim.mp4\n"
          ]
        },
        {
          "output_type": "stream",
          "name": "stderr",
          "text": [
            "\n",
            "Processing videos:  10%|█         | 1/10 [00:02<00:25,  2.88s/it]\u001b[A"
          ]
        },
        {
          "output_type": "stream",
          "name": "stdout",
          "text": [
            "Processing video: /content/drive/MyDrive/sign_language_project/THIWANKA 2/banana 1/WhatsApp Video 2024-10-23 at 22.55.50_98a4d4c2 - Trim.mp4\n"
          ]
        },
        {
          "output_type": "stream",
          "name": "stderr",
          "text": [
            "\n",
            "Processing videos:  20%|██        | 2/10 [00:06<00:24,  3.12s/it]\u001b[A"
          ]
        },
        {
          "output_type": "stream",
          "name": "stdout",
          "text": [
            "Processing video: /content/drive/MyDrive/sign_language_project/THIWANKA 2/banana 1/WhatsApp Video 2024-10-23 at 21.02.15_527d4696 - Trim.mp4\n"
          ]
        },
        {
          "output_type": "stream",
          "name": "stderr",
          "text": [
            "\n",
            "Processing videos:  30%|███       | 3/10 [00:08<00:19,  2.74s/it]\u001b[A"
          ]
        },
        {
          "output_type": "stream",
          "name": "stdout",
          "text": [
            "Processing video: /content/drive/MyDrive/sign_language_project/THIWANKA 2/banana 1/WhatsApp Video 2024-10-23 at 21.02.38_254f0eb4 - Trim.mp4\n"
          ]
        },
        {
          "output_type": "stream",
          "name": "stderr",
          "text": [
            "\n",
            "Processing videos:  40%|████      | 4/10 [00:11<00:16,  2.70s/it]\u001b[A"
          ]
        },
        {
          "output_type": "stream",
          "name": "stdout",
          "text": [
            "Processing video: /content/drive/MyDrive/sign_language_project/THIWANKA 2/banana 1/WhatsApp Video 2024-10-23 at 21.05.59_eb9f6607 - Trim.mp4\n"
          ]
        },
        {
          "output_type": "stream",
          "name": "stderr",
          "text": [
            "\n",
            "Processing videos:  50%|█████     | 5/10 [00:14<00:15,  3.01s/it]\u001b[A"
          ]
        },
        {
          "output_type": "stream",
          "name": "stdout",
          "text": [
            "Processing video: /content/drive/MyDrive/sign_language_project/THIWANKA 2/banana 1/WhatsApp Video 2024-10-23 at 21.06.00_a37a6f35 - Trim.mp4\n"
          ]
        },
        {
          "output_type": "stream",
          "name": "stderr",
          "text": [
            "\n",
            "Processing videos:  60%|██████    | 6/10 [00:17<00:11,  2.79s/it]\u001b[A"
          ]
        },
        {
          "output_type": "stream",
          "name": "stdout",
          "text": [
            "Processing video: /content/drive/MyDrive/sign_language_project/THIWANKA 2/banana 1/WhatsApp Video 2024-10-23 at 21.06.03_e71b22e3 - Trim.mp4\n"
          ]
        },
        {
          "output_type": "stream",
          "name": "stderr",
          "text": [
            "\n",
            "Processing videos:  70%|███████   | 7/10 [00:20<00:09,  3.08s/it]\u001b[A"
          ]
        },
        {
          "output_type": "stream",
          "name": "stdout",
          "text": [
            "Processing video: /content/drive/MyDrive/sign_language_project/THIWANKA 2/banana 1/WhatsApp Video 2024-10-23 at 21.06.31_8d34de07 - Trim.mp4\n"
          ]
        },
        {
          "output_type": "stream",
          "name": "stderr",
          "text": [
            "\n",
            "Processing videos:  80%|████████  | 8/10 [00:23<00:06,  3.07s/it]\u001b[A"
          ]
        },
        {
          "output_type": "stream",
          "name": "stdout",
          "text": [
            "Processing video: /content/drive/MyDrive/sign_language_project/THIWANKA 2/banana 1/WhatsApp Video 2024-10-23 at 21.06.47_2f728ae0 - Trim.mp4\n"
          ]
        },
        {
          "output_type": "stream",
          "name": "stderr",
          "text": [
            "\n",
            "Processing videos:  90%|█████████ | 9/10 [00:26<00:02,  2.97s/it]\u001b[A"
          ]
        },
        {
          "output_type": "stream",
          "name": "stdout",
          "text": [
            "Processing video: /content/drive/MyDrive/sign_language_project/THIWANKA 2/banana 1/WhatsApp Video 2024-10-23 at 21.06.57_220b14d3 - Trim.mp4\n"
          ]
        },
        {
          "output_type": "stream",
          "name": "stderr",
          "text": [
            "\n",
            "Processing videos: 100%|██████████| 10/10 [00:28<00:00,  2.81s/it]\u001b[A\n",
            "Processing signs:  29%|██▉       | 5/17 [04:30<10:01, 50.10s/it]"
          ]
        },
        {
          "output_type": "stream",
          "name": "stdout",
          "text": [
            "\n",
            "Processing sign: DOG\n"
          ]
        },
        {
          "output_type": "stream",
          "name": "stderr",
          "text": [
            "\n",
            "Processing videos:   0%|          | 0/10 [00:00<?, ?it/s]\u001b[A"
          ]
        },
        {
          "output_type": "stream",
          "name": "stdout",
          "text": [
            "Processing video: /content/drive/MyDrive/sign_language_project/THIWANKA 2/DOG/WhatsApp Video 2024-10-23 at 16.01.10_f076a86d - Trim.mp4\n"
          ]
        },
        {
          "output_type": "stream",
          "name": "stderr",
          "text": [
            "\n",
            "Processing videos:  10%|█         | 1/10 [00:03<00:33,  3.71s/it]\u001b[A"
          ]
        },
        {
          "output_type": "stream",
          "name": "stdout",
          "text": [
            "Processing video: /content/drive/MyDrive/sign_language_project/THIWANKA 2/DOG/WhatsApp Video 2024-10-23 at 16.01.37_a032f75d - Trim.mp4\n"
          ]
        },
        {
          "output_type": "stream",
          "name": "stderr",
          "text": [
            "\n",
            "Processing videos:  20%|██        | 2/10 [00:08<00:33,  4.22s/it]\u001b[A"
          ]
        },
        {
          "output_type": "stream",
          "name": "stdout",
          "text": [
            "Processing video: /content/drive/MyDrive/sign_language_project/THIWANKA 2/DOG/WhatsApp Video 2024-10-23 at 16.02.09_f91a96f2 - Trim.mp4\n"
          ]
        },
        {
          "output_type": "stream",
          "name": "stderr",
          "text": [
            "\n",
            "Processing videos:  30%|███       | 3/10 [00:11<00:26,  3.79s/it]\u001b[A"
          ]
        },
        {
          "output_type": "stream",
          "name": "stdout",
          "text": [
            "Processing video: /content/drive/MyDrive/sign_language_project/THIWANKA 2/DOG/WhatsApp Video 2024-10-23 at 16.09.06_446b8f65 - Trim.mp4\n"
          ]
        },
        {
          "output_type": "stream",
          "name": "stderr",
          "text": [
            "\n",
            "Processing videos:  40%|████      | 4/10 [00:15<00:24,  4.04s/it]\u001b[A"
          ]
        },
        {
          "output_type": "stream",
          "name": "stdout",
          "text": [
            "Processing video: /content/drive/MyDrive/sign_language_project/THIWANKA 2/DOG/WhatsApp Video 2024-10-23 at 16.09.07_eaf13e9d - Trim.mp4\n"
          ]
        },
        {
          "output_type": "stream",
          "name": "stderr",
          "text": [
            "\n",
            "Processing videos:  50%|█████     | 5/10 [00:22<00:23,  4.79s/it]\u001b[A"
          ]
        },
        {
          "output_type": "stream",
          "name": "stdout",
          "text": [
            "Processing video: /content/drive/MyDrive/sign_language_project/THIWANKA 2/DOG/WhatsApp Video 2024-10-23 at 16.09.11_8bea2dd0 - Trim.mp4\n"
          ]
        },
        {
          "output_type": "stream",
          "name": "stderr",
          "text": [
            "\n",
            "Processing videos:  60%|██████    | 6/10 [00:26<00:19,  4.79s/it]\u001b[A"
          ]
        },
        {
          "output_type": "stream",
          "name": "stdout",
          "text": [
            "Processing video: /content/drive/MyDrive/sign_language_project/THIWANKA 2/DOG/WhatsApp Video 2024-10-23 at 16.09.11_c862ae25 - Trim.mp4\n"
          ]
        },
        {
          "output_type": "stream",
          "name": "stderr",
          "text": [
            "\n",
            "Processing videos:  70%|███████   | 7/10 [00:32<00:14,  4.90s/it]\u001b[A"
          ]
        },
        {
          "output_type": "stream",
          "name": "stdout",
          "text": [
            "Processing video: /content/drive/MyDrive/sign_language_project/THIWANKA 2/DOG/WhatsApp Video 2024-10-23 at 16.09.11_4f38df43 - Trim.mp4\n"
          ]
        },
        {
          "output_type": "stream",
          "name": "stderr",
          "text": [
            "\n",
            "Processing videos:  80%|████████  | 8/10 [00:38<00:10,  5.47s/it]\u001b[A"
          ]
        },
        {
          "output_type": "stream",
          "name": "stdout",
          "text": [
            "Processing video: /content/drive/MyDrive/sign_language_project/THIWANKA 2/DOG/WhatsApp Video 2024-10-23 at 16.09.14_ab68f119 - Trim.mp4\n"
          ]
        },
        {
          "output_type": "stream",
          "name": "stderr",
          "text": [
            "\n",
            "Processing videos:  90%|█████████ | 9/10 [00:44<00:05,  5.50s/it]\u001b[A"
          ]
        },
        {
          "output_type": "stream",
          "name": "stdout",
          "text": [
            "Processing video: /content/drive/MyDrive/sign_language_project/THIWANKA 2/DOG/WhatsApp Video 2024-10-23 at 16.09.15_17fad2e6 - Trim.mp4\n"
          ]
        },
        {
          "output_type": "stream",
          "name": "stderr",
          "text": [
            "\n",
            "Processing videos: 100%|██████████| 10/10 [00:49<00:00,  5.31s/it]\u001b[A\n",
            "Processing signs:  35%|███▌      | 6/17 [05:19<09:07, 49.80s/it]"
          ]
        },
        {
          "output_type": "stream",
          "name": "stdout",
          "text": [
            "\n",
            "Processing sign: banana2\n"
          ]
        },
        {
          "output_type": "stream",
          "name": "stderr",
          "text": [
            "\n",
            "Processing videos:   0%|          | 0/10 [00:00<?, ?it/s]\u001b[A"
          ]
        },
        {
          "output_type": "stream",
          "name": "stdout",
          "text": [
            "Processing video: /content/drive/MyDrive/sign_language_project/THIWANKA 2/banana2/WhatsApp Video 2024-10-23 at 21.07.06_7e26dc02 - Trim.mp4\n"
          ]
        },
        {
          "output_type": "stream",
          "name": "stderr",
          "text": [
            "\n",
            "Processing videos:  10%|█         | 1/10 [00:07<01:05,  7.31s/it]\u001b[A"
          ]
        },
        {
          "output_type": "stream",
          "name": "stdout",
          "text": [
            "Processing video: /content/drive/MyDrive/sign_language_project/THIWANKA 2/banana2/WhatsApp Video 2024-10-23 at 21.07.07_8c35efb2 - Trim.mp4\n"
          ]
        },
        {
          "output_type": "stream",
          "name": "stderr",
          "text": [
            "\n",
            "Processing videos:  20%|██        | 2/10 [00:12<00:47,  5.95s/it]\u001b[A"
          ]
        },
        {
          "output_type": "stream",
          "name": "stdout",
          "text": [
            "Processing video: /content/drive/MyDrive/sign_language_project/THIWANKA 2/banana2/WhatsApp Video 2024-10-23 at 21.13.13_c5a27ea5 - Trim.mp4\n"
          ]
        },
        {
          "output_type": "stream",
          "name": "stderr",
          "text": [
            "\n",
            "Processing videos:  30%|███       | 3/10 [00:20<00:49,  7.00s/it]\u001b[A"
          ]
        },
        {
          "output_type": "stream",
          "name": "stdout",
          "text": [
            "Processing video: /content/drive/MyDrive/sign_language_project/THIWANKA 2/banana2/WhatsApp Video 2024-10-23 at 21.13.14_0c818e20 - Trim.mp4\n"
          ]
        },
        {
          "output_type": "stream",
          "name": "stderr",
          "text": [
            "\n",
            "Processing videos:  40%|████      | 4/10 [00:27<00:43,  7.17s/it]\u001b[A"
          ]
        },
        {
          "output_type": "stream",
          "name": "stdout",
          "text": [
            "Processing video: /content/drive/MyDrive/sign_language_project/THIWANKA 2/banana2/WhatsApp Video 2024-10-23 at 21.13.14_a2070a5a - Trim.mp4\n"
          ]
        },
        {
          "output_type": "stream",
          "name": "stderr",
          "text": [
            "\n",
            "Processing videos:  50%|█████     | 5/10 [00:36<00:38,  7.67s/it]\u001b[A"
          ]
        },
        {
          "output_type": "stream",
          "name": "stdout",
          "text": [
            "Processing video: /content/drive/MyDrive/sign_language_project/THIWANKA 2/banana2/WhatsApp Video 2024-10-23 at 21.13.15_03bec05a - Trim.mp4\n"
          ]
        },
        {
          "output_type": "stream",
          "name": "stderr",
          "text": [
            "\n",
            "Processing videos:  60%|██████    | 6/10 [00:41<00:27,  6.78s/it]\u001b[A"
          ]
        },
        {
          "output_type": "stream",
          "name": "stdout",
          "text": [
            "Processing video: /content/drive/MyDrive/sign_language_project/THIWANKA 2/banana2/WhatsApp Video 2024-10-23 at 21.13.15_4bd3dd98 - Trim.mp4\n"
          ]
        },
        {
          "output_type": "stream",
          "name": "stderr",
          "text": [
            "\n",
            "Processing videos:  70%|███████   | 7/10 [00:47<00:19,  6.56s/it]\u001b[A"
          ]
        },
        {
          "output_type": "stream",
          "name": "stdout",
          "text": [
            "Processing video: /content/drive/MyDrive/sign_language_project/THIWANKA 2/banana2/WhatsApp Video 2024-10-23 at 21.13.15_6f9de1fc - Trim.mp4\n"
          ]
        },
        {
          "output_type": "stream",
          "name": "stderr",
          "text": [
            "\n",
            "Processing videos:  80%|████████  | 8/10 [00:53<00:12,  6.19s/it]\u001b[A"
          ]
        },
        {
          "output_type": "stream",
          "name": "stdout",
          "text": [
            "Processing video: /content/drive/MyDrive/sign_language_project/THIWANKA 2/banana2/WhatsApp Video 2024-10-23 at 21.13.16_a428f6ba - Trim.mp4\n"
          ]
        },
        {
          "output_type": "stream",
          "name": "stderr",
          "text": [
            "\n",
            "Processing videos:  90%|█████████ | 9/10 [00:58<00:05,  5.97s/it]\u001b[A"
          ]
        },
        {
          "output_type": "stream",
          "name": "stdout",
          "text": [
            "Processing video: /content/drive/MyDrive/sign_language_project/THIWANKA 2/banana2/WhatsApp Video 2024-10-23 at 21.13.16_a12a87d0 - Trim.mp4\n"
          ]
        },
        {
          "output_type": "stream",
          "name": "stderr",
          "text": [
            "\n",
            "Processing videos: 100%|██████████| 10/10 [01:04<00:00,  5.93s/it]\u001b[A\n",
            "Processing signs:  41%|████      | 7/17 [06:23<09:05, 54.59s/it]"
          ]
        },
        {
          "output_type": "stream",
          "name": "stdout",
          "text": [
            "\n",
            "Processing sign: CIRCLE\n"
          ]
        },
        {
          "output_type": "stream",
          "name": "stderr",
          "text": [
            "\n",
            "Processing videos:   0%|          | 0/11 [00:00<?, ?it/s]\u001b[A"
          ]
        },
        {
          "output_type": "stream",
          "name": "stdout",
          "text": [
            "Processing video: /content/drive/MyDrive/sign_language_project/THIWANKA 2/CIRCLE/VID-20241023-WA0001 - Trim.mp4\n"
          ]
        },
        {
          "output_type": "stream",
          "name": "stderr",
          "text": [
            "\n",
            "Processing videos:   9%|▉         | 1/11 [00:06<01:05,  6.57s/it]\u001b[A"
          ]
        },
        {
          "output_type": "stream",
          "name": "stdout",
          "text": [
            "Processing video: /content/drive/MyDrive/sign_language_project/THIWANKA 2/CIRCLE/VID-20241023-WA0002 - Trim.mp4\n"
          ]
        },
        {
          "output_type": "stream",
          "name": "stderr",
          "text": [
            "\n",
            "Processing videos:  18%|█▊        | 2/11 [00:14<01:08,  7.57s/it]\u001b[A"
          ]
        },
        {
          "output_type": "stream",
          "name": "stdout",
          "text": [
            "Processing video: /content/drive/MyDrive/sign_language_project/THIWANKA 2/CIRCLE/VID-20241023-WA0003 - Trim.mp4\n"
          ]
        },
        {
          "output_type": "stream",
          "name": "stderr",
          "text": [
            "\n",
            "Processing videos:  27%|██▋       | 3/11 [00:22<01:00,  7.57s/it]\u001b[A"
          ]
        },
        {
          "output_type": "stream",
          "name": "stdout",
          "text": [
            "Processing video: /content/drive/MyDrive/sign_language_project/THIWANKA 2/CIRCLE/VID-20241023-WA0004 - Trim.mp4\n"
          ]
        },
        {
          "output_type": "stream",
          "name": "stderr",
          "text": [
            "\n",
            "Processing videos:  36%|███▋      | 4/11 [00:32<00:58,  8.42s/it]\u001b[A"
          ]
        },
        {
          "output_type": "stream",
          "name": "stdout",
          "text": [
            "Processing video: /content/drive/MyDrive/sign_language_project/THIWANKA 2/CIRCLE/VID-20241023-WA0005 - Trim.mp4\n"
          ]
        },
        {
          "output_type": "stream",
          "name": "stderr",
          "text": [
            "\n",
            "Processing videos:  45%|████▌     | 5/11 [00:39<00:48,  8.16s/it]\u001b[A"
          ]
        },
        {
          "output_type": "stream",
          "name": "stdout",
          "text": [
            "Processing video: /content/drive/MyDrive/sign_language_project/THIWANKA 2/CIRCLE/VID-20241023-WA0006 - Trim.mp4\n"
          ]
        },
        {
          "output_type": "stream",
          "name": "stderr",
          "text": [
            "\n",
            "Processing videos:  55%|█████▍    | 6/11 [00:47<00:40,  8.02s/it]\u001b[A"
          ]
        },
        {
          "output_type": "stream",
          "name": "stdout",
          "text": [
            "Processing video: /content/drive/MyDrive/sign_language_project/THIWANKA 2/CIRCLE/VID-20241023-WA0012 - Trim.mp4\n"
          ]
        },
        {
          "output_type": "stream",
          "name": "stderr",
          "text": [
            "\n",
            "Processing videos:  64%|██████▎   | 7/11 [00:54<00:30,  7.58s/it]\u001b[A"
          ]
        },
        {
          "output_type": "stream",
          "name": "stdout",
          "text": [
            "Processing video: /content/drive/MyDrive/sign_language_project/THIWANKA 2/CIRCLE/VID-20241023-WA0013 - Trim.mp4\n"
          ]
        },
        {
          "output_type": "stream",
          "name": "stderr",
          "text": [
            "\n",
            "Processing videos:  73%|███████▎  | 8/11 [01:01<00:22,  7.61s/it]\u001b[A"
          ]
        },
        {
          "output_type": "stream",
          "name": "stdout",
          "text": [
            "Processing video: /content/drive/MyDrive/sign_language_project/THIWANKA 2/CIRCLE/VID-20241023-WA0014 - Trim.mp4\n"
          ]
        },
        {
          "output_type": "stream",
          "name": "stderr",
          "text": [
            "\n",
            "Processing videos:  82%|████████▏ | 9/11 [01:08<00:14,  7.18s/it]\u001b[A"
          ]
        },
        {
          "output_type": "stream",
          "name": "stdout",
          "text": [
            "Processing video: /content/drive/MyDrive/sign_language_project/THIWANKA 2/CIRCLE/VID-20241023-WA0015 - Trim.mp4\n"
          ]
        },
        {
          "output_type": "stream",
          "name": "stderr",
          "text": [
            "\n",
            "Processing videos:  91%|█████████ | 10/11 [01:17<00:07,  7.70s/it]\u001b[A"
          ]
        },
        {
          "output_type": "stream",
          "name": "stdout",
          "text": [
            "Processing video: /content/drive/MyDrive/sign_language_project/THIWANKA 2/CIRCLE/VID-20241023-WA0016 - Trim.mp4\n"
          ]
        },
        {
          "output_type": "stream",
          "name": "stderr",
          "text": [
            "\n",
            "Processing videos: 100%|██████████| 11/11 [01:24<00:00,  7.55s/it]\u001b[A\n",
            "Processing signs:  47%|████▋     | 8/17 [07:47<09:36, 64.04s/it]"
          ]
        },
        {
          "output_type": "stream",
          "name": "stdout",
          "text": [
            "\n",
            "Processing sign: elephant\n"
          ]
        },
        {
          "output_type": "stream",
          "name": "stderr",
          "text": [
            "\n",
            "Processing videos:   0%|          | 0/10 [00:00<?, ?it/s]\u001b[A"
          ]
        },
        {
          "output_type": "stream",
          "name": "stdout",
          "text": [
            "Processing video: /content/drive/MyDrive/sign_language_project/THIWANKA 2/elephant/WhatsApp Video 2024-10-23 at 16.36.46_52ee3030 - Trim.mp4\n"
          ]
        },
        {
          "output_type": "stream",
          "name": "stderr",
          "text": [
            "\n",
            "Processing videos:  10%|█         | 1/10 [00:06<00:57,  6.34s/it]\u001b[A"
          ]
        },
        {
          "output_type": "stream",
          "name": "stdout",
          "text": [
            "Processing video: /content/drive/MyDrive/sign_language_project/THIWANKA 2/elephant/WhatsApp Video 2024-10-23 at 16.39.19_c4294001 - Trim.mp4\n"
          ]
        },
        {
          "output_type": "stream",
          "name": "stderr",
          "text": [
            "\n",
            "Processing videos:  20%|██        | 2/10 [00:13<00:56,  7.07s/it]\u001b[A"
          ]
        },
        {
          "output_type": "stream",
          "name": "stdout",
          "text": [
            "Processing video: /content/drive/MyDrive/sign_language_project/THIWANKA 2/elephant/WhatsApp Video 2024-10-23 at 16.39.57_e2fa3513 - Trim.mp4\n"
          ]
        },
        {
          "output_type": "stream",
          "name": "stderr",
          "text": [
            "\n",
            "Processing videos:  30%|███       | 3/10 [00:20<00:47,  6.74s/it]\u001b[A"
          ]
        },
        {
          "output_type": "stream",
          "name": "stdout",
          "text": [
            "Processing video: /content/drive/MyDrive/sign_language_project/THIWANKA 2/elephant/WhatsApp Video 2024-10-23 at 16.42.34_95f29deb - Trim.mp4\n"
          ]
        },
        {
          "output_type": "stream",
          "name": "stderr",
          "text": [
            "\n",
            "Processing videos:  40%|████      | 4/10 [00:28<00:43,  7.24s/it]\u001b[A"
          ]
        },
        {
          "output_type": "stream",
          "name": "stdout",
          "text": [
            "Processing video: /content/drive/MyDrive/sign_language_project/THIWANKA 2/elephant/WhatsApp Video 2024-10-23 at 16.44.57_7fec7216 - Trim.mp4\n"
          ]
        },
        {
          "output_type": "stream",
          "name": "stderr",
          "text": [
            "\n",
            "Processing videos:  50%|█████     | 5/10 [00:36<00:38,  7.70s/it]\u001b[A"
          ]
        },
        {
          "output_type": "stream",
          "name": "stdout",
          "text": [
            "Processing video: /content/drive/MyDrive/sign_language_project/THIWANKA 2/elephant/WhatsApp Video 2024-10-23 at 16.44.58_de00e46c - Trim.mp4\n"
          ]
        },
        {
          "output_type": "stream",
          "name": "stderr",
          "text": [
            "\n",
            "Processing videos:  60%|██████    | 6/10 [00:44<00:30,  7.65s/it]\u001b[A"
          ]
        },
        {
          "output_type": "stream",
          "name": "stdout",
          "text": [
            "Processing video: /content/drive/MyDrive/sign_language_project/THIWANKA 2/elephant/WhatsApp Video 2024-10-23 at 16.45.01_94414049 - Trim.mp4\n"
          ]
        },
        {
          "output_type": "stream",
          "name": "stderr",
          "text": [
            "\n",
            "Processing videos:  70%|███████   | 7/10 [00:53<00:24,  8.09s/it]\u001b[A"
          ]
        },
        {
          "output_type": "stream",
          "name": "stdout",
          "text": [
            "Processing video: /content/drive/MyDrive/sign_language_project/THIWANKA 2/elephant/WhatsApp Video 2024-10-23 at 16.45.01_8631a793 - Trim.mp4\n"
          ]
        },
        {
          "output_type": "stream",
          "name": "stderr",
          "text": [
            "\n",
            "Processing videos:  80%|████████  | 8/10 [01:00<00:15,  7.81s/it]\u001b[A"
          ]
        },
        {
          "output_type": "stream",
          "name": "stdout",
          "text": [
            "Processing video: /content/drive/MyDrive/sign_language_project/THIWANKA 2/elephant/WhatsApp Video 2024-10-23 at 16.47.47_f566d139 - Trim.mp4\n"
          ]
        },
        {
          "output_type": "stream",
          "name": "stderr",
          "text": [
            "\n",
            "Processing videos:  90%|█████████ | 9/10 [01:09<00:08,  8.21s/it]\u001b[A"
          ]
        },
        {
          "output_type": "stream",
          "name": "stdout",
          "text": [
            "Processing video: /content/drive/MyDrive/sign_language_project/THIWANKA 2/elephant/WhatsApp Video 2024-10-23 at 17.20.12_eba7141b - Trim.mp4\n"
          ]
        },
        {
          "output_type": "stream",
          "name": "stderr",
          "text": [
            "\n",
            "Processing videos: 100%|██████████| 10/10 [01:16<00:00,  7.89s/it]\u001b[A\n",
            "Processing signs:  53%|█████▎    | 9/17 [09:04<09:04, 68.05s/it]"
          ]
        },
        {
          "output_type": "stream",
          "name": "stdout",
          "text": [
            "\n",
            "Processing sign: DOG2\n"
          ]
        },
        {
          "output_type": "stream",
          "name": "stderr",
          "text": [
            "\n",
            "Processing videos:   0%|          | 0/10 [00:00<?, ?it/s]\u001b[A"
          ]
        },
        {
          "output_type": "stream",
          "name": "stdout",
          "text": [
            "Processing video: /content/drive/MyDrive/sign_language_project/THIWANKA 2/DOG2/WhatsApp Video 2024-10-23 at 16.28.06_ee78bbb0 - Trim.mp4\n"
          ]
        },
        {
          "output_type": "stream",
          "name": "stderr",
          "text": [
            "\n",
            "Processing videos:  10%|█         | 1/10 [00:03<00:32,  3.65s/it]\u001b[A"
          ]
        },
        {
          "output_type": "stream",
          "name": "stdout",
          "text": [
            "Processing video: /content/drive/MyDrive/sign_language_project/THIWANKA 2/DOG2/WhatsApp Video 2024-10-23 at 16.28.36_dd798fd3 - Trim.mp4\n"
          ]
        },
        {
          "output_type": "stream",
          "name": "stderr",
          "text": [
            "\n",
            "Processing videos:  20%|██        | 2/10 [00:08<00:37,  4.63s/it]\u001b[A"
          ]
        },
        {
          "output_type": "stream",
          "name": "stdout",
          "text": [
            "Processing video: /content/drive/MyDrive/sign_language_project/THIWANKA 2/DOG2/WhatsApp Video 2024-10-23 at 16.30.08_37400cd2 - Trim.mp4\n"
          ]
        },
        {
          "output_type": "stream",
          "name": "stderr",
          "text": [
            "\n",
            "Processing videos:  30%|███       | 3/10 [00:13<00:33,  4.78s/it]\u001b[A"
          ]
        },
        {
          "output_type": "stream",
          "name": "stdout",
          "text": [
            "Processing video: /content/drive/MyDrive/sign_language_project/THIWANKA 2/DOG2/WhatsApp Video 2024-10-23 at 16.30.09_019b8709 - Trim.mp4\n"
          ]
        },
        {
          "output_type": "stream",
          "name": "stderr",
          "text": [
            "\n",
            "Processing videos:  40%|████      | 4/10 [00:21<00:35,  5.85s/it]\u001b[A"
          ]
        },
        {
          "output_type": "stream",
          "name": "stdout",
          "text": [
            "Processing video: /content/drive/MyDrive/sign_language_project/THIWANKA 2/DOG2/WhatsApp Video 2024-10-23 at 16.30.09_dd9fa9aa - Trim.mp4\n"
          ]
        },
        {
          "output_type": "stream",
          "name": "stderr",
          "text": [
            "\n",
            "Processing videos:  50%|█████     | 5/10 [00:26<00:27,  5.52s/it]\u001b[A"
          ]
        },
        {
          "output_type": "stream",
          "name": "stdout",
          "text": [
            "Processing video: /content/drive/MyDrive/sign_language_project/THIWANKA 2/DOG2/WhatsApp Video 2024-10-23 at 16.36.41_0720e7ec - Trim.mp4\n"
          ]
        },
        {
          "output_type": "stream",
          "name": "stderr",
          "text": [
            "\n",
            "Processing videos:  60%|██████    | 6/10 [00:30<00:20,  5.16s/it]\u001b[A"
          ]
        },
        {
          "output_type": "stream",
          "name": "stdout",
          "text": [
            "Processing video: /content/drive/MyDrive/sign_language_project/THIWANKA 2/DOG2/WhatsApp Video 2024-10-23 at 16.36.41_87950daa - Trim.mp4\n"
          ]
        },
        {
          "output_type": "stream",
          "name": "stderr",
          "text": [
            "\n",
            "Processing videos:  70%|███████   | 7/10 [00:36<00:16,  5.35s/it]\u001b[A"
          ]
        },
        {
          "output_type": "stream",
          "name": "stdout",
          "text": [
            "Processing video: /content/drive/MyDrive/sign_language_project/THIWANKA 2/DOG2/WhatsApp Video 2024-10-23 at 16.36.42_ce671be9 - Trim.mp4\n"
          ]
        },
        {
          "output_type": "stream",
          "name": "stderr",
          "text": [
            "\n",
            "Processing videos:  80%|████████  | 8/10 [00:40<00:10,  5.05s/it]\u001b[A"
          ]
        },
        {
          "output_type": "stream",
          "name": "stdout",
          "text": [
            "Processing video: /content/drive/MyDrive/sign_language_project/THIWANKA 2/DOG2/WhatsApp Video 2024-10-23 at 16.36.41_8f9ec06d - Trim.mp4\n"
          ]
        },
        {
          "output_type": "stream",
          "name": "stderr",
          "text": [
            "\n",
            "Processing videos:  90%|█████████ | 9/10 [00:45<00:04,  4.89s/it]\u001b[A"
          ]
        },
        {
          "output_type": "stream",
          "name": "stdout",
          "text": [
            "Processing video: /content/drive/MyDrive/sign_language_project/THIWANKA 2/DOG2/WhatsApp Video 2024-10-23 at 16.28.06_bc3ab7f8 - Trim.mp4\n"
          ]
        },
        {
          "output_type": "stream",
          "name": "stderr",
          "text": [
            "\n",
            "Processing videos: 100%|██████████| 10/10 [00:49<00:00,  4.69s/it]\u001b[A\n",
            "Processing signs:  59%|█████▉    | 10/17 [09:54<07:16, 62.40s/it]"
          ]
        },
        {
          "output_type": "stream",
          "name": "stdout",
          "text": [
            "\n",
            "Processing sign: square\n"
          ]
        },
        {
          "output_type": "stream",
          "name": "stderr",
          "text": [
            "\n",
            "Processing videos:   0%|          | 0/10 [00:00<?, ?it/s]\u001b[A"
          ]
        },
        {
          "output_type": "stream",
          "name": "stdout",
          "text": [
            "Processing video: /content/drive/MyDrive/sign_language_project/THIWANKA 2/square/WhatsApp Video 2024-10-23 at 20.12.02_c5158720 - Trim.mp4\n"
          ]
        },
        {
          "output_type": "stream",
          "name": "stderr",
          "text": [
            "\n",
            "Processing videos:  10%|█         | 1/10 [00:07<01:09,  7.68s/it]\u001b[A"
          ]
        },
        {
          "output_type": "stream",
          "name": "stdout",
          "text": [
            "Processing video: /content/drive/MyDrive/sign_language_project/THIWANKA 2/square/WhatsApp Video 2024-10-23 at 20.17.05_9caf593a - Trim.mp4\n"
          ]
        },
        {
          "output_type": "stream",
          "name": "stderr",
          "text": [
            "\n",
            "Processing videos:  20%|██        | 2/10 [00:17<01:09,  8.68s/it]\u001b[A"
          ]
        },
        {
          "output_type": "stream",
          "name": "stdout",
          "text": [
            "Processing video: /content/drive/MyDrive/sign_language_project/THIWANKA 2/square/WhatsApp Video 2024-10-23 at 20.17.08_16416f7d - Trim.mp4\n"
          ]
        },
        {
          "output_type": "stream",
          "name": "stderr",
          "text": [
            "\n",
            "Processing videos:  30%|███       | 3/10 [00:24<00:57,  8.19s/it]\u001b[A"
          ]
        },
        {
          "output_type": "stream",
          "name": "stdout",
          "text": [
            "Processing video: /content/drive/MyDrive/sign_language_project/THIWANKA 2/square/WhatsApp Video 2024-10-23 at 20.17.11_b88aa1f6 - Trim.mp4\n"
          ]
        },
        {
          "output_type": "stream",
          "name": "stderr",
          "text": [
            "\n",
            "Processing videos:  40%|████      | 4/10 [00:35<00:55,  9.28s/it]\u001b[A"
          ]
        },
        {
          "output_type": "stream",
          "name": "stdout",
          "text": [
            "Processing video: /content/drive/MyDrive/sign_language_project/THIWANKA 2/square/WhatsApp Video 2024-10-23 at 20.20.07_cf0101ef - Trim.mp4\n"
          ]
        },
        {
          "output_type": "stream",
          "name": "stderr",
          "text": [
            "\n",
            "Processing videos:  50%|█████     | 5/10 [00:44<00:44,  8.99s/it]\u001b[A"
          ]
        },
        {
          "output_type": "stream",
          "name": "stdout",
          "text": [
            "Processing video: /content/drive/MyDrive/sign_language_project/THIWANKA 2/square/WhatsApp Video 2024-10-23 at 20.23.07_cd2c96df - Trim.mp4\n"
          ]
        },
        {
          "output_type": "stream",
          "name": "stderr",
          "text": [
            "\n",
            "Processing videos:  60%|██████    | 6/10 [00:53<00:36,  9.10s/it]\u001b[A"
          ]
        },
        {
          "output_type": "stream",
          "name": "stdout",
          "text": [
            "Processing video: /content/drive/MyDrive/sign_language_project/THIWANKA 2/square/WhatsApp Video 2024-10-23 at 20.23.26_e9e931b4 - Trim.mp4\n"
          ]
        },
        {
          "output_type": "stream",
          "name": "stderr",
          "text": [
            "\n",
            "Processing videos:  70%|███████   | 7/10 [01:00<00:25,  8.51s/it]\u001b[A"
          ]
        },
        {
          "output_type": "stream",
          "name": "stdout",
          "text": [
            "Processing video: /content/drive/MyDrive/sign_language_project/THIWANKA 2/square/WhatsApp Video 2024-10-23 at 20.24.58_4645c8c6 - Trim.mp4\n"
          ]
        },
        {
          "output_type": "stream",
          "name": "stderr",
          "text": [
            "\n",
            "Processing videos:  80%|████████  | 8/10 [01:08<00:16,  8.38s/it]\u001b[A"
          ]
        },
        {
          "output_type": "stream",
          "name": "stdout",
          "text": [
            "Processing video: /content/drive/MyDrive/sign_language_project/THIWANKA 2/square/WhatsApp Video 2024-10-23 at 20.25.09_7601a4f2 - Trim.mp4\n"
          ]
        },
        {
          "output_type": "stream",
          "name": "stderr",
          "text": [
            "\n",
            "Processing videos:  90%|█████████ | 9/10 [01:18<00:08,  8.90s/it]\u001b[A"
          ]
        },
        {
          "output_type": "stream",
          "name": "stdout",
          "text": [
            "Processing video: /content/drive/MyDrive/sign_language_project/THIWANKA 2/square/WhatsApp Video 2024-10-23 at 20.26.41_522f612c - Trim.mp4\n"
          ]
        },
        {
          "output_type": "stream",
          "name": "stderr",
          "text": [
            "\n",
            "Processing videos: 100%|██████████| 10/10 [01:29<00:00,  9.45s/it]\u001b[A\n",
            "Processing signs:  65%|██████▍   | 11/17 [11:24<07:04, 70.71s/it]"
          ]
        },
        {
          "output_type": "stream",
          "name": "stdout",
          "text": [
            "\n",
            "Processing sign: mango\n"
          ]
        },
        {
          "output_type": "stream",
          "name": "stderr",
          "text": [
            "\n",
            "Processing videos:   0%|          | 0/10 [00:00<?, ?it/s]\u001b[A"
          ]
        },
        {
          "output_type": "stream",
          "name": "stdout",
          "text": [
            "Processing video: /content/drive/MyDrive/sign_language_project/THIWANKA 2/mango/WhatsApp Video 2024-10-23 at 23.18.23_812c1e1d - Trim.mp4\n"
          ]
        },
        {
          "output_type": "stream",
          "name": "stderr",
          "text": [
            "\n",
            "Processing videos:  10%|█         | 1/10 [00:03<00:35,  3.94s/it]\u001b[A"
          ]
        },
        {
          "output_type": "stream",
          "name": "stdout",
          "text": [
            "Processing video: /content/drive/MyDrive/sign_language_project/THIWANKA 2/mango/WhatsApp Video 2024-10-23 at 23.17.10_46edab5b - Trim.mp4\n"
          ]
        },
        {
          "output_type": "stream",
          "name": "stderr",
          "text": [
            "\n",
            "Processing videos:  20%|██        | 2/10 [00:09<00:36,  4.61s/it]\u001b[A"
          ]
        },
        {
          "output_type": "stream",
          "name": "stdout",
          "text": [
            "Processing video: /content/drive/MyDrive/sign_language_project/THIWANKA 2/mango/WhatsApp Video 2024-10-23 at 23.17.30_0f9a359b - Trim.mp4\n"
          ]
        },
        {
          "output_type": "stream",
          "name": "stderr",
          "text": [
            "\n",
            "Processing videos:  30%|███       | 3/10 [00:13<00:30,  4.35s/it]\u001b[A"
          ]
        },
        {
          "output_type": "stream",
          "name": "stdout",
          "text": [
            "Processing video: /content/drive/MyDrive/sign_language_project/THIWANKA 2/mango/WhatsApp Video 2024-10-23 at 23.17.48_c178fa83 - Trim.mp4\n"
          ]
        },
        {
          "output_type": "stream",
          "name": "stderr",
          "text": [
            "\n",
            "Processing videos:  40%|████      | 4/10 [00:16<00:24,  4.03s/it]\u001b[A"
          ]
        },
        {
          "output_type": "stream",
          "name": "stdout",
          "text": [
            "Processing video: /content/drive/MyDrive/sign_language_project/THIWANKA 2/mango/WhatsApp Video 2024-10-23 at 23.18.06_99b02bc0 - Trim.mp4\n"
          ]
        },
        {
          "output_type": "stream",
          "name": "stderr",
          "text": [
            "\n",
            "Processing videos:  50%|█████     | 5/10 [00:22<00:24,  4.80s/it]\u001b[A"
          ]
        },
        {
          "output_type": "stream",
          "name": "stdout",
          "text": [
            "Processing video: /content/drive/MyDrive/sign_language_project/THIWANKA 2/mango/WhatsApp Video 2024-10-23 at 23.18.12_e020b2f3 - Trim.mp4\n"
          ]
        },
        {
          "output_type": "stream",
          "name": "stderr",
          "text": [
            "\n",
            "Processing videos:  60%|██████    | 6/10 [00:27<00:18,  4.64s/it]\u001b[A"
          ]
        },
        {
          "output_type": "stream",
          "name": "stdout",
          "text": [
            "Processing video: /content/drive/MyDrive/sign_language_project/THIWANKA 2/mango/WhatsApp Video 2024-10-23 at 23.18.13_8ef1791a - Trim.mp4\n"
          ]
        },
        {
          "output_type": "stream",
          "name": "stderr",
          "text": [
            "\n",
            "Processing videos:  70%|███████   | 7/10 [00:31<00:13,  4.63s/it]\u001b[A"
          ]
        },
        {
          "output_type": "stream",
          "name": "stdout",
          "text": [
            "Processing video: /content/drive/MyDrive/sign_language_project/THIWANKA 2/mango/WhatsApp Video 2024-10-23 at 23.18.16_7c68f559 - Trim.mp4\n"
          ]
        },
        {
          "output_type": "stream",
          "name": "stderr",
          "text": [
            "\n",
            "Processing videos:  80%|████████  | 8/10 [00:39<00:11,  5.51s/it]\u001b[A"
          ]
        },
        {
          "output_type": "stream",
          "name": "stdout",
          "text": [
            "Processing video: /content/drive/MyDrive/sign_language_project/THIWANKA 2/mango/WhatsApp Video 2024-10-23 at 23.18.20_f8db397d - Trim.mp4\n"
          ]
        },
        {
          "output_type": "stream",
          "name": "stderr",
          "text": [
            "\n",
            "Processing videos:  90%|█████████ | 9/10 [00:44<00:05,  5.37s/it]\u001b[A"
          ]
        },
        {
          "output_type": "stream",
          "name": "stdout",
          "text": [
            "Processing video: /content/drive/MyDrive/sign_language_project/THIWANKA 2/mango/WhatsApp Video 2024-10-23 at 23.18.21_a3089c96 - Trim.mp4\n"
          ]
        },
        {
          "output_type": "stream",
          "name": "stderr",
          "text": [
            "\n",
            "Processing videos: 100%|██████████| 10/10 [00:48<00:00,  5.08s/it]\u001b[A\n",
            "Processing signs:  71%|███████   | 12/17 [12:12<05:19, 63.99s/it]"
          ]
        },
        {
          "output_type": "stream",
          "name": "stdout",
          "text": [
            "\n",
            "Processing sign: pomegranate\n"
          ]
        },
        {
          "output_type": "stream",
          "name": "stderr",
          "text": [
            "\n",
            "Processing videos:   0%|          | 0/10 [00:00<?, ?it/s]\u001b[A"
          ]
        },
        {
          "output_type": "stream",
          "name": "stdout",
          "text": [
            "Processing video: /content/drive/MyDrive/sign_language_project/THIWANKA 2/pomegranate/WhatsApp Video 2024-10-23 at 23.36.33_770ba772 - Trim.mp4\n"
          ]
        },
        {
          "output_type": "stream",
          "name": "stderr",
          "text": [
            "\n",
            "Processing videos:  10%|█         | 1/10 [00:05<00:53,  5.96s/it]\u001b[A"
          ]
        },
        {
          "output_type": "stream",
          "name": "stdout",
          "text": [
            "Processing video: /content/drive/MyDrive/sign_language_project/THIWANKA 2/pomegranate/WhatsApp Video 2024-10-23 at 23.38.28_030ddce1 - Trim.mp4\n"
          ]
        },
        {
          "output_type": "stream",
          "name": "stderr",
          "text": [
            "\n",
            "Processing videos:  20%|██        | 2/10 [00:11<00:47,  5.97s/it]\u001b[A"
          ]
        },
        {
          "output_type": "stream",
          "name": "stdout",
          "text": [
            "Processing video: /content/drive/MyDrive/sign_language_project/THIWANKA 2/pomegranate/WhatsApp Video 2024-10-23 at 23.38.29_98ad2355 - Trim.mp4\n"
          ]
        },
        {
          "output_type": "stream",
          "name": "stderr",
          "text": [
            "\n",
            "Processing videos:  30%|███       | 3/10 [00:18<00:44,  6.29s/it]\u001b[A"
          ]
        },
        {
          "output_type": "stream",
          "name": "stdout",
          "text": [
            "Processing video: /content/drive/MyDrive/sign_language_project/THIWANKA 2/pomegranate/WhatsApp Video 2024-10-23 at 23.38.30_287dc924 - Trim.mp4\n"
          ]
        },
        {
          "output_type": "stream",
          "name": "stderr",
          "text": [
            "\n",
            "Processing videos:  40%|████      | 4/10 [00:24<00:37,  6.24s/it]\u001b[A"
          ]
        },
        {
          "output_type": "stream",
          "name": "stdout",
          "text": [
            "Processing video: /content/drive/MyDrive/sign_language_project/THIWANKA 2/pomegranate/WhatsApp Video 2024-10-23 at 23.38.31_e9942002 - Trim.mp4\n"
          ]
        },
        {
          "output_type": "stream",
          "name": "stderr",
          "text": [
            "\n",
            "Processing videos:  50%|█████     | 5/10 [00:33<00:35,  7.11s/it]\u001b[A"
          ]
        },
        {
          "output_type": "stream",
          "name": "stdout",
          "text": [
            "Processing video: /content/drive/MyDrive/sign_language_project/THIWANKA 2/pomegranate/WhatsApp Video 2024-10-23 at 23.38.32_a3084e37 - Trim.mp4\n"
          ]
        },
        {
          "output_type": "stream",
          "name": "stderr",
          "text": [
            "\n",
            "Processing videos:  60%|██████    | 6/10 [00:39<00:26,  6.67s/it]\u001b[A"
          ]
        },
        {
          "output_type": "stream",
          "name": "stdout",
          "text": [
            "Processing video: /content/drive/MyDrive/sign_language_project/THIWANKA 2/pomegranate/WhatsApp Video 2024-10-23 at 23.38.33_2001dbe1 - Trim.mp4\n"
          ]
        },
        {
          "output_type": "stream",
          "name": "stderr",
          "text": [
            "\n",
            "Processing videos:  70%|███████   | 7/10 [00:47<00:21,  7.08s/it]\u001b[A"
          ]
        },
        {
          "output_type": "stream",
          "name": "stdout",
          "text": [
            "Processing video: /content/drive/MyDrive/sign_language_project/THIWANKA 2/pomegranate/WhatsApp Video 2024-10-23 at 23.38.33_ffe2eb7e - Trim.mp4\n"
          ]
        },
        {
          "output_type": "stream",
          "name": "stderr",
          "text": [
            "\n",
            "Processing videos:  80%|████████  | 8/10 [00:54<00:14,  7.16s/it]\u001b[A"
          ]
        },
        {
          "output_type": "stream",
          "name": "stdout",
          "text": [
            "Processing video: /content/drive/MyDrive/sign_language_project/THIWANKA 2/pomegranate/WhatsApp Video 2024-10-23 at 23.38.34_495c0ba2 - Trim.mp4\n"
          ]
        },
        {
          "output_type": "stream",
          "name": "stderr",
          "text": [
            "\n",
            "Processing videos:  90%|█████████ | 9/10 [01:02<00:07,  7.48s/it]\u001b[A"
          ]
        },
        {
          "output_type": "stream",
          "name": "stdout",
          "text": [
            "Processing video: /content/drive/MyDrive/sign_language_project/THIWANKA 2/pomegranate/WhatsApp Video 2024-10-23 at 23.38.36_94e9fac6 - Trim.mp4\n"
          ]
        },
        {
          "output_type": "stream",
          "name": "stderr",
          "text": [
            "\n",
            "Processing videos: 100%|██████████| 10/10 [01:09<00:00,  7.12s/it]\u001b[A\n",
            "Processing signs:  76%|███████▋  | 13/17 [13:21<04:22, 65.52s/it]"
          ]
        },
        {
          "output_type": "stream",
          "name": "stdout",
          "text": [
            "\n",
            "Processing sign: parrot\n"
          ]
        },
        {
          "output_type": "stream",
          "name": "stderr",
          "text": [
            "\n",
            "Processing videos:   0%|          | 0/10 [00:00<?, ?it/s]\u001b[A"
          ]
        },
        {
          "output_type": "stream",
          "name": "stdout",
          "text": [
            "Processing video: /content/drive/MyDrive/sign_language_project/THIWANKA 2/parrot/WhatsApp Video 2024-10-23 at 18.34.39_f7fcb6d9 - Trim.mp4\n"
          ]
        },
        {
          "output_type": "stream",
          "name": "stderr",
          "text": [
            "\n",
            "Processing videos:  10%|█         | 1/10 [00:06<00:55,  6.15s/it]\u001b[A"
          ]
        },
        {
          "output_type": "stream",
          "name": "stdout",
          "text": [
            "Processing video: /content/drive/MyDrive/sign_language_project/THIWANKA 2/parrot/WhatsApp Video 2024-10-23 at 18.46.07_ad91c4e0 - Trim.mp4\n"
          ]
        },
        {
          "output_type": "stream",
          "name": "stderr",
          "text": [
            "\n",
            "Processing videos:  20%|██        | 2/10 [00:12<00:50,  6.36s/it]\u001b[A"
          ]
        },
        {
          "output_type": "stream",
          "name": "stdout",
          "text": [
            "Processing video: /content/drive/MyDrive/sign_language_project/THIWANKA 2/parrot/WhatsApp Video 2024-10-23 at 18.46.09_1cf609c8 - Trim.mp4\n"
          ]
        },
        {
          "output_type": "stream",
          "name": "stderr",
          "text": [
            "\n",
            "Processing videos:  30%|███       | 3/10 [00:21<00:52,  7.51s/it]\u001b[A"
          ]
        },
        {
          "output_type": "stream",
          "name": "stdout",
          "text": [
            "Processing video: /content/drive/MyDrive/sign_language_project/THIWANKA 2/parrot/WhatsApp Video 2024-10-23 at 18.46.09_b1f178f6 - Trim.mp4\n"
          ]
        },
        {
          "output_type": "stream",
          "name": "stderr",
          "text": [
            "\n",
            "Processing videos:  40%|████      | 4/10 [00:30<00:49,  8.23s/it]\u001b[A"
          ]
        },
        {
          "output_type": "stream",
          "name": "stdout",
          "text": [
            "Processing video: /content/drive/MyDrive/sign_language_project/THIWANKA 2/parrot/WhatsApp Video 2024-10-23 at 18.46.11_50fc6b32 - Trim.mp4\n"
          ]
        },
        {
          "output_type": "stream",
          "name": "stderr",
          "text": [
            "\n",
            "Processing videos:  50%|█████     | 5/10 [00:41<00:45,  9.01s/it]\u001b[A"
          ]
        },
        {
          "output_type": "stream",
          "name": "stdout",
          "text": [
            "Processing video: /content/drive/MyDrive/sign_language_project/THIWANKA 2/parrot/WhatsApp Video 2024-10-23 at 18.46.12_2e409c77 - Trim.mp4\n"
          ]
        },
        {
          "output_type": "stream",
          "name": "stderr",
          "text": [
            "\n",
            "Processing videos:  60%|██████    | 6/10 [00:47<00:32,  8.09s/it]\u001b[A"
          ]
        },
        {
          "output_type": "stream",
          "name": "stdout",
          "text": [
            "Processing video: /content/drive/MyDrive/sign_language_project/THIWANKA 2/parrot/WhatsApp Video 2024-10-23 at 18.46.17_be6df4ea - Trim.mp4\n"
          ]
        },
        {
          "output_type": "stream",
          "name": "stderr",
          "text": [
            "\n",
            "Processing videos:  70%|███████   | 7/10 [00:55<00:23,  7.96s/it]\u001b[A"
          ]
        },
        {
          "output_type": "stream",
          "name": "stdout",
          "text": [
            "Processing video: /content/drive/MyDrive/sign_language_project/THIWANKA 2/parrot/WhatsApp Video 2024-10-23 at 18.46.07_381bfda3 - Trim.mp4\n"
          ]
        },
        {
          "output_type": "stream",
          "name": "stderr",
          "text": [
            "\n",
            "Processing videos:  80%|████████  | 8/10 [01:01<00:14,  7.37s/it]\u001b[A"
          ]
        },
        {
          "output_type": "stream",
          "name": "stdout",
          "text": [
            "Processing video: /content/drive/MyDrive/sign_language_project/THIWANKA 2/parrot/WhatsApp Video 2024-10-23 at 18.46.14_7691c0e5 - Trim.mp4\n"
          ]
        },
        {
          "output_type": "stream",
          "name": "stderr",
          "text": [
            "\n",
            "Processing videos:  90%|█████████ | 9/10 [01:09<00:07,  7.58s/it]\u001b[A"
          ]
        },
        {
          "output_type": "stream",
          "name": "stdout",
          "text": [
            "Processing video: /content/drive/MyDrive/sign_language_project/THIWANKA 2/parrot/WhatsApp Video 2024-10-23 at 18.46.13_2ef65246 - Trim.mp4\n"
          ]
        },
        {
          "output_type": "stream",
          "name": "stderr",
          "text": [
            "\n",
            "Processing videos: 100%|██████████| 10/10 [01:13<00:00,  6.63s/it]\u001b[A\n",
            "Processing signs:  82%|████████▏ | 14/17 [14:35<03:24, 68.07s/it]"
          ]
        },
        {
          "output_type": "stream",
          "name": "stdout",
          "text": [
            "\n",
            "Processing sign: rectangle\n"
          ]
        },
        {
          "output_type": "stream",
          "name": "stderr",
          "text": [
            "\n",
            "Processing videos:   0%|          | 0/11 [00:00<?, ?it/s]\u001b[A"
          ]
        },
        {
          "output_type": "stream",
          "name": "stdout",
          "text": [
            "Processing video: /content/drive/MyDrive/sign_language_project/THIWANKA 2/rectangle/WhatsApp Video 2024-10-23 at 18.54.01_7ad74aeb - Trim.mp4\n"
          ]
        },
        {
          "output_type": "stream",
          "name": "stderr",
          "text": [
            "\n",
            "Processing videos:   9%|▉         | 1/11 [00:10<01:44, 10.42s/it]\u001b[A"
          ]
        },
        {
          "output_type": "stream",
          "name": "stdout",
          "text": [
            "Processing video: /content/drive/MyDrive/sign_language_project/THIWANKA 2/rectangle/WhatsApp Video 2024-10-23 at 18.55.36_47e5729f - Trim.mp4\n"
          ]
        },
        {
          "output_type": "stream",
          "name": "stderr",
          "text": [
            "\n",
            "Processing videos:  18%|█▊        | 2/11 [00:16<01:10,  7.86s/it]\u001b[A"
          ]
        },
        {
          "output_type": "stream",
          "name": "stdout",
          "text": [
            "Processing video: /content/drive/MyDrive/sign_language_project/THIWANKA 2/rectangle/WhatsApp Video 2024-10-23 at 18.55.37_48d642ad - Trim.mp4\n"
          ]
        },
        {
          "output_type": "stream",
          "name": "stderr",
          "text": [
            "\n",
            "Processing videos:  27%|██▋       | 3/11 [00:23<01:00,  7.54s/it]\u001b[A"
          ]
        },
        {
          "output_type": "stream",
          "name": "stdout",
          "text": [
            "Processing video: /content/drive/MyDrive/sign_language_project/THIWANKA 2/rectangle/WhatsApp Video 2024-10-23 at 18.56.25_e09b7b41 - Trim.mp4\n"
          ]
        },
        {
          "output_type": "stream",
          "name": "stderr",
          "text": [
            "\n",
            "Processing videos:  36%|███▋      | 4/11 [00:30<00:51,  7.43s/it]\u001b[A"
          ]
        },
        {
          "output_type": "stream",
          "name": "stdout",
          "text": [
            "Processing video: /content/drive/MyDrive/sign_language_project/THIWANKA 2/rectangle/WhatsApp Video 2024-10-23 at 18.56.27_8b75ad05 - Trim.mp4\n"
          ]
        },
        {
          "output_type": "stream",
          "name": "stderr",
          "text": [
            "\n",
            "Processing videos:  45%|████▌     | 5/11 [00:39<00:47,  7.84s/it]\u001b[A"
          ]
        },
        {
          "output_type": "stream",
          "name": "stdout",
          "text": [
            "Processing video: /content/drive/MyDrive/sign_language_project/THIWANKA 2/rectangle/WhatsApp Video 2024-10-23 at 18.56.47_24b4bff8 - Trim.mp4\n"
          ]
        },
        {
          "output_type": "stream",
          "name": "stderr",
          "text": [
            "\n",
            "Processing videos:  55%|█████▍    | 6/11 [00:46<00:38,  7.73s/it]\u001b[A"
          ]
        },
        {
          "output_type": "stream",
          "name": "stdout",
          "text": [
            "Processing video: /content/drive/MyDrive/sign_language_project/THIWANKA 2/rectangle/WhatsApp Video 2024-10-23 at 18.56.48_99224491 - Trim.mp4\n"
          ]
        },
        {
          "output_type": "stream",
          "name": "stderr",
          "text": [
            "\n",
            "Processing videos:  64%|██████▎   | 7/11 [00:53<00:29,  7.34s/it]\u001b[A"
          ]
        },
        {
          "output_type": "stream",
          "name": "stdout",
          "text": [
            "Processing video: /content/drive/MyDrive/sign_language_project/THIWANKA 2/rectangle/WhatsApp Video 2024-10-23 at 18.57.07_e0e6b6a4 - Trim.mp4\n"
          ]
        },
        {
          "output_type": "stream",
          "name": "stderr",
          "text": [
            "\n",
            "Processing videos:  73%|███████▎  | 8/11 [01:02<00:23,  7.81s/it]\u001b[A"
          ]
        },
        {
          "output_type": "stream",
          "name": "stdout",
          "text": [
            "Processing video: /content/drive/MyDrive/sign_language_project/THIWANKA 2/rectangle/WhatsApp Video 2024-10-23 at 18.57.07_7ee69d47 - Trim.mp4\n"
          ]
        },
        {
          "output_type": "stream",
          "name": "stderr",
          "text": [
            "\n",
            "Processing videos:  82%|████████▏ | 9/11 [01:11<00:16,  8.31s/it]\u001b[A"
          ]
        },
        {
          "output_type": "stream",
          "name": "stdout",
          "text": [
            "Processing video: /content/drive/MyDrive/sign_language_project/THIWANKA 2/rectangle/WhatsApp Video 2024-10-23 at 18.58.51_b394d50a - Trim.mp4\n"
          ]
        },
        {
          "output_type": "stream",
          "name": "stderr",
          "text": [
            "\n",
            "Processing videos:  91%|█████████ | 10/11 [01:17<00:07,  7.60s/it]\u001b[A"
          ]
        },
        {
          "output_type": "stream",
          "name": "stdout",
          "text": [
            "Processing video: /content/drive/MyDrive/sign_language_project/THIWANKA 2/rectangle/WhatsApp Video 2024-10-23 at 18.58.51_bac40acd - Trim.mp4\n"
          ]
        },
        {
          "output_type": "stream",
          "name": "stderr",
          "text": [
            "\n",
            "Processing videos: 100%|██████████| 11/11 [01:26<00:00,  7.82s/it]\u001b[A\n",
            "Processing signs:  88%|████████▊ | 15/17 [16:01<02:27, 73.50s/it]"
          ]
        },
        {
          "output_type": "stream",
          "name": "stdout",
          "text": [
            "\n",
            "Processing sign: pineapple\n"
          ]
        },
        {
          "output_type": "stream",
          "name": "stderr",
          "text": [
            "\n",
            "Processing videos:   0%|          | 0/10 [00:00<?, ?it/s]\u001b[A"
          ]
        },
        {
          "output_type": "stream",
          "name": "stdout",
          "text": [
            "Processing video: /content/drive/MyDrive/sign_language_project/THIWANKA 2/pineapple/WhatsApp Video 2024-10-23 at 23.32.59_fd93c700 - Trim.mp4\n"
          ]
        },
        {
          "output_type": "stream",
          "name": "stderr",
          "text": [
            "\n",
            "Processing videos:  10%|█         | 1/10 [00:04<00:39,  4.35s/it]\u001b[A"
          ]
        },
        {
          "output_type": "stream",
          "name": "stdout",
          "text": [
            "Processing video: /content/drive/MyDrive/sign_language_project/THIWANKA 2/pineapple/WhatsApp Video 2024-10-23 at 23.33.11_d5b76983 - Trim.mp4\n"
          ]
        },
        {
          "output_type": "stream",
          "name": "stderr",
          "text": [
            "\n",
            "Processing videos:  20%|██        | 2/10 [00:09<00:39,  4.95s/it]\u001b[A"
          ]
        },
        {
          "output_type": "stream",
          "name": "stdout",
          "text": [
            "Processing video: /content/drive/MyDrive/sign_language_project/THIWANKA 2/pineapple/WhatsApp Video 2024-10-23 at 23.34.22_1ddaf081 - Trim.mp4\n"
          ]
        },
        {
          "output_type": "stream",
          "name": "stderr",
          "text": [
            "\n",
            "Processing videos:  30%|███       | 3/10 [00:15<00:37,  5.41s/it]\u001b[A"
          ]
        },
        {
          "output_type": "stream",
          "name": "stdout",
          "text": [
            "Processing video: /content/drive/MyDrive/sign_language_project/THIWANKA 2/pineapple/WhatsApp Video 2024-10-23 at 23.34.25_e621c1ba - Trim.mp4\n"
          ]
        },
        {
          "output_type": "stream",
          "name": "stderr",
          "text": [
            "\n",
            "Processing videos:  40%|████      | 4/10 [00:20<00:30,  5.05s/it]\u001b[A"
          ]
        },
        {
          "output_type": "stream",
          "name": "stdout",
          "text": [
            "Processing video: /content/drive/MyDrive/sign_language_project/THIWANKA 2/pineapple/WhatsApp Video 2024-10-23 at 23.34.40_9df75823 - Trim.mp4\n"
          ]
        },
        {
          "output_type": "stream",
          "name": "stderr",
          "text": [
            "\n",
            "Processing videos:  50%|█████     | 5/10 [00:25<00:24,  4.99s/it]\u001b[A"
          ]
        },
        {
          "output_type": "stream",
          "name": "stdout",
          "text": [
            "Processing video: /content/drive/MyDrive/sign_language_project/THIWANKA 2/pineapple/WhatsApp Video 2024-10-23 at 23.34.40_bdae3e7c - Trim.mp4\n"
          ]
        },
        {
          "output_type": "stream",
          "name": "stderr",
          "text": [
            "\n",
            "Processing videos:  60%|██████    | 6/10 [00:31<00:22,  5.58s/it]\u001b[A"
          ]
        },
        {
          "output_type": "stream",
          "name": "stdout",
          "text": [
            "Processing video: /content/drive/MyDrive/sign_language_project/THIWANKA 2/pineapple/WhatsApp Video 2024-10-23 at 23.34.41_67454ebb - Trim.mp4\n"
          ]
        },
        {
          "output_type": "stream",
          "name": "stderr",
          "text": [
            "\n",
            "Processing videos:  70%|███████   | 7/10 [00:37<00:16,  5.51s/it]\u001b[A"
          ]
        },
        {
          "output_type": "stream",
          "name": "stdout",
          "text": [
            "Processing video: /content/drive/MyDrive/sign_language_project/THIWANKA 2/pineapple/WhatsApp Video 2024-10-23 at 23.34.41_63c71e64 - Trim.mp4\n"
          ]
        },
        {
          "output_type": "stream",
          "name": "stderr",
          "text": [
            "\n",
            "Processing videos:  80%|████████  | 8/10 [00:43<00:11,  5.86s/it]\u001b[A"
          ]
        },
        {
          "output_type": "stream",
          "name": "stdout",
          "text": [
            "Processing video: /content/drive/MyDrive/sign_language_project/THIWANKA 2/pineapple/WhatsApp Video 2024-10-23 at 23.34.42_8d1ae312 - Trim.mp4\n"
          ]
        },
        {
          "output_type": "stream",
          "name": "stderr",
          "text": [
            "\n",
            "Processing videos:  90%|█████████ | 9/10 [00:47<00:05,  5.22s/it]\u001b[A"
          ]
        },
        {
          "output_type": "stream",
          "name": "stdout",
          "text": [
            "Processing video: /content/drive/MyDrive/sign_language_project/THIWANKA 2/pineapple/WhatsApp Video 2024-10-23 at 23.34.42_c68c1ffd - Trim.mp4\n"
          ]
        },
        {
          "output_type": "stream",
          "name": "stderr",
          "text": [
            "\n",
            "Processing videos: 100%|██████████| 10/10 [00:50<00:00,  4.48s/it]\u001b[A\n",
            "Processing signs:  94%|█████████▍| 16/17 [16:52<01:06, 66.55s/it]"
          ]
        },
        {
          "output_type": "stream",
          "name": "stdout",
          "text": [
            "\n",
            "Processing sign: triangle\n"
          ]
        },
        {
          "output_type": "stream",
          "name": "stderr",
          "text": [
            "\n",
            "Processing videos:   0%|          | 0/10 [00:00<?, ?it/s]\u001b[A"
          ]
        },
        {
          "output_type": "stream",
          "name": "stdout",
          "text": [
            "Processing video: /content/drive/MyDrive/sign_language_project/THIWANKA 2/triangle/WhatsApp Video 2024-10-23 at 20.38.02_d0046539 - Trim.mp4\n"
          ]
        },
        {
          "output_type": "stream",
          "name": "stderr",
          "text": [
            "\n",
            "Processing videos:  10%|█         | 1/10 [00:06<00:59,  6.61s/it]\u001b[A"
          ]
        },
        {
          "output_type": "stream",
          "name": "stdout",
          "text": [
            "Processing video: /content/drive/MyDrive/sign_language_project/THIWANKA 2/triangle/WhatsApp Video 2024-10-23 at 20.43.05_fe8cdf45 - Trim.mp4\n"
          ]
        },
        {
          "output_type": "stream",
          "name": "stderr",
          "text": [
            "\n",
            "Processing videos:  20%|██        | 2/10 [00:15<01:03,  7.90s/it]\u001b[A"
          ]
        },
        {
          "output_type": "stream",
          "name": "stdout",
          "text": [
            "Processing video: /content/drive/MyDrive/sign_language_project/THIWANKA 2/triangle/WhatsApp Video 2024-10-23 at 20.43.12_eed18777 - Trim.mp4\n"
          ]
        },
        {
          "output_type": "stream",
          "name": "stderr",
          "text": [
            "\n",
            "Processing videos:  30%|███       | 3/10 [00:26<01:04,  9.23s/it]\u001b[A"
          ]
        },
        {
          "output_type": "stream",
          "name": "stdout",
          "text": [
            "Processing video: /content/drive/MyDrive/sign_language_project/THIWANKA 2/triangle/WhatsApp Video 2024-10-23 at 20.43.27_f34937fa - Trim.mp4\n"
          ]
        },
        {
          "output_type": "stream",
          "name": "stderr",
          "text": [
            "\n",
            "Processing videos:  40%|████      | 4/10 [00:34<00:53,  8.89s/it]\u001b[A"
          ]
        },
        {
          "output_type": "stream",
          "name": "stdout",
          "text": [
            "Processing video: /content/drive/MyDrive/sign_language_project/THIWANKA 2/triangle/WhatsApp Video 2024-10-23 at 20.44.34_ae9afaab - Trim.mp4\n"
          ]
        },
        {
          "output_type": "stream",
          "name": "stderr",
          "text": [
            "\n",
            "Processing videos:  50%|█████     | 5/10 [00:44<00:47,  9.43s/it]\u001b[A"
          ]
        },
        {
          "output_type": "stream",
          "name": "stdout",
          "text": [
            "Processing video: /content/drive/MyDrive/sign_language_project/THIWANKA 2/triangle/WhatsApp Video 2024-10-23 at 20.43.54_3f0019a9 - Trim.mp4\n"
          ]
        },
        {
          "output_type": "stream",
          "name": "stderr",
          "text": [
            "\n",
            "Processing videos:  60%|██████    | 6/10 [00:54<00:37,  9.34s/it]\u001b[A"
          ]
        },
        {
          "output_type": "stream",
          "name": "stdout",
          "text": [
            "Processing video: /content/drive/MyDrive/sign_language_project/THIWANKA 2/triangle/WhatsApp Video 2024-10-23 at 20.44.34_ddbe3e62 - Trim.mp4\n"
          ]
        },
        {
          "output_type": "stream",
          "name": "stderr",
          "text": [
            "\n",
            "Processing videos:  70%|███████   | 7/10 [01:01<00:25,  8.65s/it]\u001b[A"
          ]
        },
        {
          "output_type": "stream",
          "name": "stdout",
          "text": [
            "Processing video: /content/drive/MyDrive/sign_language_project/THIWANKA 2/triangle/WhatsApp Video 2024-10-23 at 20.44.52_df408f65 - Trim.mp4\n"
          ]
        },
        {
          "output_type": "stream",
          "name": "stderr",
          "text": [
            "\n",
            "Processing videos:  80%|████████  | 8/10 [01:09<00:17,  8.56s/it]\u001b[A"
          ]
        },
        {
          "output_type": "stream",
          "name": "stdout",
          "text": [
            "Processing video: /content/drive/MyDrive/sign_language_project/THIWANKA 2/triangle/WhatsApp Video 2024-10-23 at 20.46.08_0d24bb99 - Trim.mp4\n"
          ]
        },
        {
          "output_type": "stream",
          "name": "stderr",
          "text": [
            "\n",
            "Processing videos:  90%|█████████ | 9/10 [01:16<00:08,  8.10s/it]\u001b[A"
          ]
        },
        {
          "output_type": "stream",
          "name": "stdout",
          "text": [
            "Processing video: /content/drive/MyDrive/sign_language_project/THIWANKA 2/triangle/WhatsApp Video 2024-10-23 at 20.46.08_5a99bb8a - Trim.mp4\n"
          ]
        },
        {
          "output_type": "stream",
          "name": "stderr",
          "text": [
            "\n",
            "Processing videos: 100%|██████████| 10/10 [01:26<00:00,  8.50s/it]\u001b[A\n",
            "Processing signs: 100%|██████████| 17/17 [18:18<00:00, 64.62s/it]\n"
          ]
        },
        {
          "output_type": "stream",
          "name": "stdout",
          "text": [
            "Calculating statistical features...\n",
            "Saving dataset to /content/drive/MyDrive/sign_language_project/hand_landmarks_dataset.csv\n",
            "\n",
            "Dataset Statistics:\n",
            "Total samples: 15134\n",
            "\n",
            "Samples per sign:\n",
            "sign\n",
            "triangle       1263\n",
            "square         1257\n",
            "rectangle      1218\n",
            "elephant       1125\n",
            "CIRCLE         1114\n",
            "parrot         1080\n",
            "apple           986\n",
            "banana2         900\n",
            "pomegranate     881\n",
            "CAT 1           854\n",
            "pineapple       715\n",
            "CAT2            692\n",
            "BUTTERFLY       685\n",
            "DOG             672\n",
            "DOG2            650\n",
            "mango           642\n",
            "banana 1        400\n",
            "Name: count, dtype: int64\n",
            "\n",
            "Dataset Preview:\n",
            "    WRIST_x   WRIST_y       WRIST_z   THUMB_x   THUMB_y   THUMB_z   THUMB_x  \\\n",
            "0  0.560414  0.711274  6.165005e-07  0.557226  0.662715 -0.019312  0.526104   \n",
            "1  0.563585  0.712663  5.106817e-07  0.555333  0.661592 -0.011649  0.522962   \n",
            "2  0.560852  0.712640  5.008951e-07  0.552608  0.661145 -0.011478  0.519723   \n",
            "3  0.558943  0.710774  4.907292e-07  0.552418  0.659484 -0.010867  0.518417   \n",
            "4  0.559112  0.708538  4.847223e-07  0.553355  0.657340 -0.011640  0.520091   \n",
            "\n",
            "    THUMB_y   THUMB_z   THUMB_x  ...     max_x     min_x    mean_y     std_y  \\\n",
            "0  0.624238 -0.037677  0.510887  ...  0.560414  0.204969  0.653340  0.045024   \n",
            "1  0.623161 -0.027427  0.503625  ...  0.563585  0.201536  0.652934  0.044762   \n",
            "2  0.622117 -0.027216  0.500302  ...  0.560852  0.201900  0.651901  0.044810   \n",
            "3  0.620191 -0.025041  0.495355  ...  0.558943  0.202729  0.649790  0.044664   \n",
            "4  0.619402 -0.026495  0.497330  ...  0.559112  0.202742  0.647701  0.044494   \n",
            "\n",
            "      max_y     min_y    mean_z     std_z         max_z     min_z  \n",
            "0  0.722649  0.566569 -0.070348  0.022011  6.165005e-07 -0.101370  \n",
            "1  0.720863  0.565396 -0.062040  0.020493  5.106817e-07 -0.088719  \n",
            "2  0.719477  0.563220 -0.061769  0.020338  5.008951e-07 -0.087715  \n",
            "3  0.718116  0.562608 -0.055056  0.017834  4.907292e-07 -0.079034  \n",
            "4  0.716257  0.562261 -0.057916  0.018772  4.847223e-07 -0.082311  \n",
            "\n",
            "[5 rows x 76 columns]\n",
            "\n",
            "Feature Statistics:\n",
            "            WRIST_x       WRIST_y       WRIST_z       THUMB_x       THUMB_y  \\\n",
            "count  15134.000000  15134.000000  1.513400e+04  15134.000000  15134.000000   \n",
            "mean       0.442882      0.608249  8.965862e-08      0.434014      0.586843   \n",
            "std        0.238578      0.074622  4.961534e-07      0.205565      0.067420   \n",
            "min       -0.071001      0.410142 -1.415621e-06     -0.017318      0.403749   \n",
            "25%        0.261963      0.563057 -2.860526e-07      0.277506      0.547397   \n",
            "50%        0.378156      0.602304  1.157698e-07      0.421915      0.587022   \n",
            "75%        0.685896      0.668625  5.061550e-07      0.619778      0.636726   \n",
            "max        0.992220      0.890997  1.788688e-06      1.016415      0.868666   \n",
            "\n",
            "            THUMB_z       THUMB_x       THUMB_y       THUMB_z       THUMB_x  \\\n",
            "count  15134.000000  15134.000000  15134.000000  15134.000000  15134.000000   \n",
            "mean      -0.000436      0.433108      0.562627     -0.009139      0.436711   \n",
            "std        0.018755      0.180358      0.067549      0.027773      0.164812   \n",
            "min       -0.084801     -0.024072      0.347114     -0.136042     -0.006712   \n",
            "25%       -0.011599      0.307008      0.517784     -0.026277      0.336832   \n",
            "50%        0.003009      0.421660      0.565856     -0.006655      0.444633   \n",
            "75%        0.013377      0.576491      0.604400      0.012178      0.550583   \n",
            "max        0.061096      1.017339      0.889954      0.086572      1.007283   \n",
            "\n",
            "       ...         max_x         min_x        mean_y         std_y  \\\n",
            "count  ...  15134.000000  15134.000000  15134.000000  15134.000000   \n",
            "mean   ...      0.565428      0.317435      0.543637      0.034151   \n",
            "std    ...      0.175972      0.170025      0.080735      0.012209   \n",
            "min    ...      0.068714     -0.072582      0.297149      0.006120   \n",
            "25%    ...      0.447983      0.200034      0.491073      0.024430   \n",
            "50%    ...      0.546284      0.318079      0.539473      0.034423   \n",
            "75%    ...      0.711308      0.449565      0.593796      0.044663   \n",
            "max    ...      1.043349      0.874826      0.959589      0.074298   \n",
            "\n",
            "              max_y         min_y        mean_z         std_z         max_z  \\\n",
            "count  15134.000000  15134.000000  15134.000000  15134.000000  1.513400e+04   \n",
            "mean       0.618855      0.482801     -0.042319      0.024826  1.082018e-02   \n",
            "std        0.078427      0.079543      0.034059      0.009829  1.410477e-02   \n",
            "min        0.428286      0.206570     -0.291838      0.004313 -1.415621e-06   \n",
            "25%        0.570359      0.431022     -0.063323      0.017159  4.688688e-07   \n",
            "50%        0.607875      0.484336     -0.041127      0.023134  5.773154e-03   \n",
            "75%        0.676648      0.535590     -0.016878      0.031396  1.777886e-02   \n",
            "max        1.017794      0.868666      0.080118      0.123827  1.776679e-01   \n",
            "\n",
            "              min_z  \n",
            "count  1.513400e+04  \n",
            "mean  -7.832615e-02  \n",
            "std    4.318728e-02  \n",
            "min   -4.214010e-01  \n",
            "25%   -1.040196e-01  \n",
            "50%   -7.430023e-02  \n",
            "75%   -4.551399e-02  \n",
            "max    4.148643e-07  \n",
            "\n",
            "[8 rows x 75 columns]\n"
          ]
        }
      ]
    },
    {
      "cell_type": "code",
      "source": [
        "df = pd.read_csv(r\"/content/drive/MyDrive/sign_language_project/hand_landmarks_dataset.csv\")"
      ],
      "metadata": {
        "id": "2IqqsIsazqOo"
      },
      "execution_count": null,
      "outputs": []
    },
    {
      "cell_type": "code",
      "source": [
        "df.columns"
      ],
      "metadata": {
        "colab": {
          "base_uri": "https://localhost:8080/"
        },
        "id": "7aHIwfUNzut1",
        "outputId": "9eea5d06-74be-4ecb-e39c-2971f0d8688b"
      },
      "execution_count": null,
      "outputs": [
        {
          "output_type": "execute_result",
          "data": {
            "text/plain": [
              "Index(['WRIST_x', 'WRIST_y', 'WRIST_z', 'THUMB_x', 'THUMB_y', 'THUMB_z',\n",
              "       'THUMB_x.1', 'THUMB_y.1', 'THUMB_z.1', 'THUMB_x.2', 'THUMB_y.2',\n",
              "       'THUMB_z.2', 'THUMB_x.3', 'THUMB_y.3', 'THUMB_z.3', 'INDEX_x',\n",
              "       'INDEX_y', 'INDEX_z', 'INDEX_x.1', 'INDEX_y.1', 'INDEX_z.1',\n",
              "       'INDEX_x.2', 'INDEX_y.2', 'INDEX_z.2', 'INDEX_x.3', 'INDEX_y.3',\n",
              "       'INDEX_z.3', 'MIDDLE_x', 'MIDDLE_y', 'MIDDLE_z', 'MIDDLE_x.1',\n",
              "       'MIDDLE_y.1', 'MIDDLE_z.1', 'MIDDLE_x.2', 'MIDDLE_y.2', 'MIDDLE_z.2',\n",
              "       'MIDDLE_x.3', 'MIDDLE_y.3', 'MIDDLE_z.3', 'RING_x', 'RING_y', 'RING_z',\n",
              "       'RING_x.1', 'RING_y.1', 'RING_z.1', 'RING_x.2', 'RING_y.2', 'RING_z.2',\n",
              "       'RING_x.3', 'RING_y.3', 'RING_z.3', 'PINKY_x', 'PINKY_y', 'PINKY_z',\n",
              "       'PINKY_x.1', 'PINKY_y.1', 'PINKY_z.1', 'PINKY_x.2', 'PINKY_y.2',\n",
              "       'PINKY_z.2', 'PINKY_x.3', 'PINKY_y.3', 'PINKY_z.3', 'sign', 'mean_x',\n",
              "       'std_x', 'max_x', 'min_x', 'mean_y', 'std_y', 'max_y', 'min_y',\n",
              "       'mean_z', 'std_z', 'max_z', 'min_z'],\n",
              "      dtype='object')"
            ]
          },
          "metadata": {},
          "execution_count": 21
        }
      ]
    },
    {
      "cell_type": "code",
      "source": [
        "import pandas as pd\n",
        "import numpy as np\n",
        "from sklearn.model_selection import train_test_split\n",
        "from sklearn.preprocessing import StandardScaler, LabelEncoder\n",
        "from sklearn.ensemble import RandomForestClassifier\n",
        "from sklearn.metrics import classification_report, confusion_matrix\n",
        "import matplotlib.pyplot as plt\n",
        "import seaborn as sns\n",
        "import joblib\n",
        "\n",
        "class SignLanguageRandomForest:\n",
        "    def __init__(self, n_estimators=100, max_depth=None):\n",
        "        self.scaler = StandardScaler()\n",
        "        self.label_encoder = LabelEncoder()\n",
        "        self.model = RandomForestClassifier(\n",
        "            n_estimators=n_estimators,\n",
        "            max_depth=max_depth,\n",
        "            random_state=42,\n",
        "            n_jobs=-1\n",
        "        )\n",
        "\n",
        "    def prepare_data(self, data_path):\n",
        "        \"\"\"Load and prepare the dataset\"\"\"\n",
        "        print(\"Loading and preparing data...\")\n",
        "\n",
        "        # Load dataset\n",
        "        self.df = pd.read_csv(data_path)  # Store the original dataframe\n",
        "\n",
        "        # Split features and target\n",
        "        X = self.df.drop('sign', axis=1)\n",
        "        y = self.df['sign']\n",
        "\n",
        "        # Store feature names\n",
        "        self.feature_names = X.columns.tolist()\n",
        "\n",
        "        # Encode labels\n",
        "        y_encoded = self.label_encoder.fit_transform(y)\n",
        "\n",
        "        # Scale features\n",
        "        X_scaled = self.scaler.fit_transform(X)\n",
        "\n",
        "        return X_scaled, y_encoded\n",
        "\n",
        "    def train_and_evaluate(self, X, y, test_size=0.2):\n",
        "        \"\"\"Train the model and evaluate its performance\"\"\"\n",
        "        # Create DataFrame with scaled features to maintain column names\n",
        "        X_df = pd.DataFrame(X, columns=self.feature_names)\n",
        "\n",
        "        # Split data\n",
        "        X_train, X_test, y_train, y_test = train_test_split(\n",
        "            X_df, y, test_size=test_size, random_state=42, stratify=y\n",
        "        )\n",
        "\n",
        "        print(\"Training Random Forest model...\")\n",
        "        # Train model\n",
        "        self.model.fit(X_train, y_train)\n",
        "\n",
        "        # Get training and test scores\n",
        "        train_score = self.model.score(X_train, y_train)\n",
        "        test_score = self.model.score(X_test, y_test)\n",
        "\n",
        "        print(f\"\\nTraining accuracy: {train_score:.4f}\")\n",
        "        print(f\"Test accuracy: {test_score:.4f}\")\n",
        "\n",
        "        # Make predictions\n",
        "        y_pred = self.model.predict(X_test)\n",
        "\n",
        "        # Print classification report\n",
        "        print(\"\\nClassification Report:\")\n",
        "        print(classification_report(\n",
        "            y_test,\n",
        "            y_pred,\n",
        "            target_names=self.label_encoder.classes_\n",
        "        ))\n",
        "\n",
        "        # Plot confusion matrix\n",
        "        self.plot_confusion_matrix(y_test, y_pred)\n",
        "\n",
        "        # Plot feature importance\n",
        "        self.plot_feature_importance()\n",
        "\n",
        "        return X_test, y_test, y_pred\n",
        "\n",
        "    def predict_new(self, X):\n",
        "        \"\"\"Make predictions on new data\"\"\"\n",
        "        # Ensure X is a DataFrame with correct feature names\n",
        "        if not isinstance(X, pd.DataFrame):\n",
        "            X = pd.DataFrame(X, columns=self.feature_names)\n",
        "        predictions = self.model.predict(X)\n",
        "        return self.label_encoder.inverse_transform(predictions)\n",
        "\n",
        "    def plot_confusion_matrix(self, y_true, y_pred):\n",
        "        \"\"\"Plot confusion matrix\"\"\"\n",
        "        plt.figure(figsize=(12, 8))\n",
        "        cm = confusion_matrix(y_true, y_pred)\n",
        "        sns.heatmap(\n",
        "            cm,\n",
        "            annot=True,\n",
        "            fmt='d',\n",
        "            cmap='Blues',\n",
        "            xticklabels=self.label_encoder.classes_,\n",
        "            yticklabels=self.label_encoder.classes_\n",
        "        )\n",
        "        plt.title('Confusion Matrix - Random Forest')\n",
        "        plt.xlabel('Predicted')\n",
        "        plt.ylabel('True')\n",
        "        plt.xticks(rotation=45)\n",
        "        plt.tight_layout()\n",
        "        plt.savefig('rf_confusion_matrix.png')\n",
        "        plt.close()\n",
        "\n",
        "    def plot_feature_importance(self):\n",
        "        \"\"\"Plot feature importance\"\"\"\n",
        "        importance = self.model.feature_importances_\n",
        "        feat_importance = pd.DataFrame({\n",
        "            'feature': self.feature_names,\n",
        "            'importance': importance\n",
        "        })\n",
        "        feat_importance = feat_importance.sort_values(\n",
        "            'importance',\n",
        "            ascending=False\n",
        "        ).head(20)\n",
        "\n",
        "        plt.figure(figsize=(12, 6))\n",
        "        sns.barplot(\n",
        "            x='importance',\n",
        "            y='feature',\n",
        "            data=feat_importance\n",
        "        )\n",
        "        plt.title('Top 20 Most Important Features - Random Forest')\n",
        "        plt.tight_layout()\n",
        "        plt.savefig('rf_feature_importance.png')\n",
        "        plt.close()\n",
        "\n",
        "def main():\n",
        "    # Define paths\n",
        "    data_path = \"/content/drive/MyDrive/sign_language_project/hand_landmarks_dataset.csv\"\n",
        "    model_path = \"/content/drive/MyDrive/sign_language_project/rf_sign_language_model.joblib\"\n",
        "    scaler_path = \"/content/drive/MyDrive/sign_language_project/rf_sign_language_scaler.joblib\"\n",
        "\n",
        "    # Initialize classifier\n",
        "    classifier = SignLanguageRandomForest(\n",
        "        n_estimators=100,\n",
        "        max_depth=10\n",
        "    )\n",
        "\n",
        "    # Prepare data\n",
        "    X, y = classifier.prepare_data(data_path)\n",
        "\n",
        "    # Train and evaluate\n",
        "    X_test, y_test, y_pred = classifier.train_and_evaluate(X, y)\n",
        "\n",
        "    # Save model\n",
        "    joblib.dump((classifier.model, classifier.scaler, classifier.label_encoder, classifier.feature_names),\n",
        "                model_path)\n",
        "    print(f\"\\nModel and associated components saved to {model_path}\")\n",
        "\n",
        "    # Test prediction on a few samples\n",
        "    print(\"\\nSample Predictions:\")\n",
        "    sample_size = 5\n",
        "    sample_indices = np.random.choice(len(X_test), sample_size)\n",
        "\n",
        "    # Create proper DataFrame for sample predictions\n",
        "    X_sample = X_test.iloc[sample_indices]\n",
        "    y_true = y_test[sample_indices]\n",
        "\n",
        "    predictions = classifier.predict_new(X_sample)\n",
        "    true_labels = classifier.label_encoder.inverse_transform(y_true)\n",
        "\n",
        "    print(\"\\nDetailed Sample Predictions:\")\n",
        "    for true, pred in zip(true_labels, predictions):\n",
        "        print(f\"True: {true}, Predicted: {pred}\")\n",
        "        if true != pred:\n",
        "            print(f\"WARNING: Misclassification detected!\")\n",
        "\n",
        "if __name__ == \"__main__\":\n",
        "    main()"
      ],
      "metadata": {
        "colab": {
          "base_uri": "https://localhost:8080/"
        },
        "id": "YaWYLGUa68wS",
        "outputId": "b8bb394d-49e5-47fb-92e1-c6ce86534654"
      },
      "execution_count": null,
      "outputs": [
        {
          "output_type": "stream",
          "name": "stdout",
          "text": [
            "Loading and preparing data...\n",
            "Training Random Forest model...\n",
            "\n",
            "Training accuracy: 0.9817\n",
            "Test accuracy: 0.9716\n",
            "\n",
            "Classification Report:\n",
            "              precision    recall  f1-score   support\n",
            "\n",
            "   BUTTERFLY       1.00      0.99      1.00       137\n",
            "       CAT 1       1.00      0.97      0.99       171\n",
            "        CAT2       0.94      0.96      0.95       138\n",
            "      CIRCLE       1.00      1.00      1.00       223\n",
            "         DOG       1.00      0.99      0.99       134\n",
            "        DOG2       1.00      0.99      1.00       130\n",
            "       apple       0.96      0.99      0.98       197\n",
            "    banana 1       1.00      1.00      1.00        80\n",
            "     banana2       0.92      0.96      0.94       180\n",
            "    elephant       1.00      1.00      1.00       225\n",
            "       mango       0.98      0.99      0.99       128\n",
            "      parrot       1.00      1.00      1.00       216\n",
            "   pineapple       0.94      0.97      0.95       143\n",
            " pomegranate       1.00      1.00      1.00       176\n",
            "   rectangle       0.97      0.91      0.94       244\n",
            "      square       0.90      0.95      0.92       252\n",
            "    triangle       0.96      0.91      0.93       253\n",
            "\n",
            "    accuracy                           0.97      3027\n",
            "   macro avg       0.97      0.98      0.97      3027\n",
            "weighted avg       0.97      0.97      0.97      3027\n",
            "\n",
            "\n",
            "Model and associated components saved to /content/drive/MyDrive/sign_language_project/rf_sign_language_model.joblib\n",
            "\n",
            "Sample Predictions:\n",
            "\n",
            "Detailed Sample Predictions:\n",
            "True: parrot, Predicted: parrot\n",
            "True: DOG2, Predicted: DOG2\n",
            "True: square, Predicted: square\n",
            "True: apple, Predicted: apple\n",
            "True: CIRCLE, Predicted: CIRCLE\n"
          ]
        }
      ]
    },
    {
      "cell_type": "markdown",
      "source": [
        "# Model Inferece\n"
      ],
      "metadata": {
        "id": "fvwuSMLbzObw"
      }
    },
    {
      "cell_type": "code",
      "source": [
        "import cv2\n",
        "import mediapipe as mp\n",
        "import numpy as np\n",
        "import pandas as pd\n",
        "import joblib\n",
        "from pathlib import Path\n",
        "\n",
        "class SignLanguageInference:\n",
        "    def __init__(self, model_path):\n",
        "        # Load MediaPipe\n",
        "        self.mp_hands = mp.solutions.hands\n",
        "        self.hands = self.mp_hands.Hands(\n",
        "            static_image_mode=False,\n",
        "            max_num_hands=2,\n",
        "            min_detection_confidence=0.7,\n",
        "            min_tracking_confidence=0.5\n",
        "        )\n",
        "\n",
        "        # Load the trained model and components\n",
        "        self.model, self.scaler, self.label_encoder, self.feature_names = joblib.load(model_path)\n",
        "\n",
        "    def extract_landmarks(self, frame):\n",
        "        \"\"\"Extract hand landmarks from a single frame\"\"\"\n",
        "        image = cv2.cvtColor(frame, cv2.COLOR_BGR2RGB)\n",
        "        results = self.hands.process(image)\n",
        "\n",
        "        if not results.multi_hand_landmarks:\n",
        "            return None\n",
        "\n",
        "        landmarks = results.multi_hand_landmarks[0]\n",
        "        coords = []\n",
        "        for landmark in landmarks.landmark:\n",
        "            coords.extend([landmark.x, landmark.y, landmark.z])\n",
        "\n",
        "        return coords\n",
        "\n",
        "    def process_video(self, video_path):\n",
        "        \"\"\"Process video and return predictions\"\"\"\n",
        "        cap = cv2.VideoCapture(video_path)\n",
        "        frames_data = []\n",
        "\n",
        "        while cap.isOpened():\n",
        "            ret, frame = cap.read()\n",
        "            if not ret:\n",
        "                break\n",
        "\n",
        "            landmarks = self.extract_landmarks(frame)\n",
        "            if landmarks is not None:\n",
        "                frames_data.append(landmarks)\n",
        "\n",
        "        cap.release()\n",
        "\n",
        "        if not frames_data:\n",
        "            return None\n",
        "\n",
        "        # Create DataFrame with landmarks\n",
        "        df = pd.DataFrame(frames_data, columns=self.feature_names[:-12])  # Exclude statistical features\n",
        "\n",
        "        # Calculate statistical features\n",
        "        for coord in ['x', 'y', 'z']:\n",
        "            coord_cols = [col for col in df.columns if col.endswith(f'_{coord}')]\n",
        "            df[f'mean_{coord}'] = df[coord_cols].mean(axis=1)\n",
        "            df[f'std_{coord}'] = df[coord_cols].std(axis=1)\n",
        "            df[f'max_{coord}'] = df[coord_cols].max(axis=1)\n",
        "            df[f'min_{coord}'] = df[coord_cols].min(axis=1)\n",
        "\n",
        "        # Scale features\n",
        "        X_scaled = self.scaler.transform(df)\n",
        "\n",
        "        # Make predictions\n",
        "        predictions = self.model.predict(X_scaled)\n",
        "        return self.label_encoder.inverse_transform(predictions)\n",
        "\n",
        "    def predict(self, video_path):\n",
        "        \"\"\"Predict sign language from video\"\"\"\n",
        "        predictions = self.process_video(video_path)\n",
        "        if predictions is None:\n",
        "            return \"No hand landmarks detected\"\n",
        "\n",
        "        # Return most common prediction\n",
        "        unique_preds, counts = np.unique(predictions, return_counts=True)\n",
        "        return unique_preds[np.argmax(counts)]\n",
        "\n",
        "def main():\n",
        "    model_path = \"/content/drive/MyDrive/sign_language_project/rf_sign_language_model.joblib\"\n",
        "    video_path = \"/content/drive/MyDrive/sign_language_project/THIWANKA 2/Wrong-video/Wrong_video.mp4\"\n",
        "\n",
        "    inference = SignLanguageInference(model_path)\n",
        "    prediction = inference.predict(video_path)\n",
        "    print(f\"Predicted sign: {prediction}\")\n",
        "\n",
        "\n",
        "main()"
      ],
      "metadata": {
        "colab": {
          "base_uri": "https://localhost:8080/"
        },
        "id": "SbJ0nFdcvbdS",
        "outputId": "3e136b74-0f87-4970-d445-7498c8770aec"
      },
      "execution_count": 7,
      "outputs": [
        {
          "output_type": "stream",
          "name": "stdout",
          "text": [
            "Predicted sign: No hand landmarks detected\n"
          ]
        }
      ]
    }
  ]
}